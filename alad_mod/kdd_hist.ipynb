{
 "cells": [
  {
   "cell_type": "code",
   "execution_count": 1,
   "metadata": {
    "collapsed": true,
    "pycharm": {
     "is_executing": false
    }
   },
   "outputs": [],
   "source": [
    "from alad_mod import kdd_dataset\n",
    "import matplotlib.pyplot as plt"
   ]
  },
  {
   "cell_type": "code",
   "execution_count": 22,
   "outputs": [
    {
     "name": "stdout",
     "text": [
      "Scaling KDD dataset\n"
     ],
     "output_type": "stream"
    }
   ],
   "source": [
    "x, y = kdd_dataset.get_train(scale=True)"
   ],
   "metadata": {
    "collapsed": false,
    "pycharm": {
     "name": "#%%\n",
     "is_executing": false
    }
   }
  },
  {
   "cell_type": "code",
   "execution_count": 44,
   "outputs": [
    {
     "name": "stdout",
     "text": [
      "(198361, 121)\n",
      "[[0.0000000e+00 2.0094718e-04 0.0000000e+00 ... 0.0000000e+00\n  1.0000000e+00 0.0000000e+00]\n [0.0000000e+00 2.0094718e-04 0.0000000e+00 ... 0.0000000e+00\n  1.0000000e+00 0.0000000e+00]\n [0.0000000e+00 2.0094718e-04 0.0000000e+00 ... 0.0000000e+00\n  1.0000000e+00 0.0000000e+00]\n ...\n [0.0000000e+00 2.0094718e-04 0.0000000e+00 ... 0.0000000e+00\n  1.0000000e+00 0.0000000e+00]\n [0.0000000e+00 2.0094718e-04 0.0000000e+00 ... 0.0000000e+00\n  1.0000000e+00 0.0000000e+00]\n [0.0000000e+00 1.0125246e-04 0.0000000e+00 ... 0.0000000e+00\n  1.0000000e+00 0.0000000e+00]]\n1.0\n"
     ],
     "output_type": "stream"
    },
    {
     "data": {
      "text/plain": "<Figure size 432x288 with 1 Axes>",
      "image/png": "[encoded data removed]"
     },
     "metadata": {
      "needs_background": "light"
     },
     "output_type": "display_data"
    }
   ],
   "source": [
    "print(x.shape)\n",
    "\n",
    "# for i in range(121):\n",
    "# \n",
    "#     plt.hist(x[:,i], bins=100, range=(-1,1))\n",
    "\n",
    "plt.hist(x[:,45], bins=100)\n",
    "\n",
    "plt.show()\n",
    "\n",
    "print(x[:])\n",
    "\n",
    "print(x[0,119])"
   ],
   "metadata": {
    "collapsed": false,
    "pycharm": {
     "name": "#%%\n",
     "is_executing": false
    }
   }
  },
  {
   "cell_type": "code",
   "execution_count": null,
   "outputs": [],
   "source": [
    "\n"
   ],
   "metadata": {
    "collapsed": false,
    "pycharm": {
     "name": "#%%\n"
    }
   }
  }
 ],
 "metadata": {
  "language_info": {
   "codemirror_mode": {
    "name": "ipython",
    "version": 2
   },
   "file_extension": ".py",
   "mimetype": "text/x-python",
   "name": "python",
   "nbconvert_exporter": "python",
   "pygments_lexer": "ipython2",
   "version": "2.7.6"
  },
  "kernelspec": {
   "name": "python3",
   "language": "python",
   "display_name": "Python 3"
  },
  "pycharm": {
   "stem_cell": {
    "cell_type": "raw",
    "source": [],
    "metadata": {
     "collapsed": false
    }
   }
  }
 },
 "nbformat": 4,
 "nbformat_minor": 0
}