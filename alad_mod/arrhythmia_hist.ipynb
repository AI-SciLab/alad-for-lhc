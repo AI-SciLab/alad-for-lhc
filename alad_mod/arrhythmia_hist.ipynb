{
 "cells": [
  {
   "cell_type": "code",
   "execution_count": 2,
   "outputs": [],
   "source": [
    "from alad_mod import arrhythmia\n",
    "import matplotlib.pyplot as plt"
   ],
   "metadata": {
    "collapsed": false,
    "pycharm": {
     "name": "#%%\n",
     "is_executing": false
    }
   }
  },
  {
   "cell_type": "code",
   "execution_count": 3,
   "outputs": [
    {
     "name": "stdout",
     "text": [
      "Scaling dataset\nSize of split train : 226\n"
     ],
     "output_type": "stream"
    }
   ],
   "source": [
    "x, y = arrhythmia.get_train(scale=True)"
   ],
   "metadata": {
    "collapsed": false,
    "pycharm": {
     "name": "#%%\n",
     "is_executing": false
    }
   }
  },
  {
   "cell_type": "code",
   "execution_count": 11,
   "outputs": [
    {
     "name": "stdout",
     "text": [
      "(226, 274)\n",
      "[[0.45783132 1.         0.11928429 ... 0.6956522  0.56541353 0.66156465]\n [0.44578314 1.         0.10337972 ... 0.7478261  0.49849623 0.66411567]\n [0.6987952  1.         0.08946322 ... 0.5565217  0.5263158  0.5467687 ]\n ...\n [0.40963855 1.         0.11928429 ... 0.59130436 0.34661654 0.35119048]\n [0.4698795  1.         0.11729623 ... 0.6347826  0.51353383 0.5688776 ]\n [0.22891566 1.         0.10337972 ... 0.6347826  0.4030075  0.43452382]]\n0.25\n"
     ],
     "output_type": "stream"
    },
    {
     "data": {
      "text/plain": "<Figure size 432x288 with 1 Axes>",
      "image/png": "[encoded data removed]"
     },
     "metadata": {
      "needs_background": "light"
     },
     "output_type": "display_data"
    }
   ],
   "source": [
    "print(x.shape)\n",
    "\n",
    "# for i in range(121):\n",
    "# \n",
    "#     plt.hist(x[:,i], bins=100, range=(-1,1))\n",
    "\n",
    "plt.hist(x[:,5], bins=100)\n",
    "\n",
    "plt.show()\n",
    "\n",
    "print(x[:])\n",
    "\n",
    "print(x[0,200])"
   ],
   "metadata": {
    "collapsed": false,
    "pycharm": {
     "name": "#%%\n",
     "is_executing": false
    }
   }
  },
  {
   "cell_type": "code",
   "execution_count": null,
   "outputs": [],
   "source": [],
   "metadata": {
    "collapsed": false,
    "pycharm": {
     "name": "#%%\n"
    }
   }
  },
  {
   "cell_type": "code",
   "execution_count": null,
   "metadata": {
    "collapsed": true
   },
   "outputs": [],
   "source": []
  }
 ],
 "metadata": {
  "language_info": {
   "codemirror_mode": {
    "name": "ipython",
    "version": 2
   },
   "file_extension": ".py",
   "mimetype": "text/x-python",
   "name": "python",
   "nbconvert_exporter": "python",
   "pygments_lexer": "ipython2",
   "version": "2.7.6"
  },
  "kernelspec": {
   "name": "python3",
   "language": "python",
   "display_name": "Python 3"
  },
  "pycharm": {
   "stem_cell": {
    "cell_type": "raw",
    "source": [],
    "metadata": {
     "collapsed": false
    }
   }
  }
 },
 "nbformat": 4,
 "nbformat_minor": 0
}