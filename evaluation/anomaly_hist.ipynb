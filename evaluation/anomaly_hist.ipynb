{
 "cells": [
  {
   "cell_type": "code",
   "execution_count": 35,
   "metadata": {
    "pycharm": {
     "is_executing": false,
     "name": "#%%\n"
    }
   },
   "outputs": [],
   "source": [
    "import argparse\n",
    "import importlib.util\n",
    "\n",
    "import tensorflow as tf\n",
    "import h5py\n",
    "import pickle\n",
    "import matplotlib.pyplot as plt\n",
    "\n",
    "from alad_mod.alad import ALAD\n",
    "from data.hlf_dataset_utils import *\n",
    "from data.hlf_preprocessing import load\n",
    "from evaluation.histogram_builder import *"
   ]
  },
  {
   "cell_type": "code",
   "execution_count": 40,
   "metadata": {
    "pycharm": {
     "name": "#%% Load config\n"
    }
   },
   "outputs": [],
   "source": [
    "data_file = '/home/oliverkn/pro/6021/data_hlf.hdf5'\n",
    "#data_file = '/home/oliverkn/pro/9865/data_hlf.hdf5'\n",
    "result_path = '/home/oliverkn/euler/results/record_6021/2_l16'\n",
    "model_file = 'model-10000000'\n",
    "\n",
    "target = '../histograms/6021/'\n",
    "\n",
    "score_type = 'fm'\n",
    "score_threshold = 100\n",
    "\n",
    "batch_size = 2 ** 20\n",
    "max_batches = 100"
   ]
  },
  {
   "cell_type": "code",
   "execution_count": 37,
   "metadata": {
    "pycharm": {
     "name": "#%% Load data\n"
    }
   },
   "outputs": [
    {
     "name": "stdout",
     "output_type": "stream",
     "text": [
      "loading data\n"
     ]
    }
   ],
   "source": [
    "print('loading data')\n",
    "\n",
    "if data_file.endswith('.npy'):\n",
    "    x = np.load(data_file)\n",
    "elif data_file.endswith('.hdf5'):\n",
    "    hdf5_file = h5py.File(data_file, \"r\")\n",
    "    x = hdf5_file['data']"
   ]
  },
  {
   "cell_type": "code",
   "execution_count": 14,
   "metadata": {
    "pycharm": {
     "name": "#%% Load ALAD\n"
    }
   },
   "outputs": [
    {
     "name": "stdout",
     "output_type": "stream",
     "text": [
      "loading alad\n"
     ]
    }
   ],
   "source": [
    "print('loading alad')\n",
    "\n",
    "# loading config\n",
    "spec = importlib.util.spec_from_file_location('config', os.path.join(result_path, 'config.py'))\n",
    "config_alad = importlib.util.module_from_spec(spec)\n",
    "spec.loader.exec_module(config_alad)\n",
    "\n",
    "# loading preprocessor\n",
    "preprocessor = load(os.path.join(result_path, 'preprocessor.pkl'))\n",
    "\n",
    "# loading alad\n",
    "tf.reset_default_graph()\n",
    "ad = ALAD(config_alad, tf.Session())\n",
    "ad.load(os.path.join(result_path, model_file))"
   ]
  },
  {
   "cell_type": "code",
   "execution_count": 41,
   "metadata": {
    "pycharm": {
     "name": "#%%\n"
    }
   },
   "outputs": [
    {
     "name": "stdout",
     "output_type": "stream",
     "text": [
      "batch number 0\n",
      "batch number 1\n",
      "batch number 2\n",
      "batch number 3\n",
      "batch number 4\n",
      "batch number 5\n",
      "batch number 6\n",
      "batch number 7\n",
      "batch number 8\n",
      "batch number 9\n",
      "batch number 10\n",
      "batch number 11\n",
      "batch number 12\n",
      "batch number 13\n",
      "batch number 14\n",
      "batch number 15\n",
      "batch number 16\n",
      "batch number 17\n",
      "batch number 18\n",
      "batch number 19\n",
      "batch number 20\n",
      "batch number 21\n",
      "batch number 22\n",
      "batch number 23\n",
      "batch number 24\n",
      "batch number 25\n",
      "batch number 26\n",
      "batch number 27\n",
      "batch number 28\n",
      "batch number 29\n",
      "batch number 30\n",
      "batch number 31\n",
      "batch number 32\n",
      "batch number 33\n",
      "batch number 34\n",
      "batch number 35\n",
      "batch number 36\n"
     ]
    }
   ],
   "source": [
    "hist_builder_anomalous = HistogramBuilder(settings_6021)\n",
    "hist_builder_normal = HistogramBuilder(settings_6021)\n",
    "\n",
    "n = x.shape[0]\n",
    "\n",
    "batch_size = batch_size\n",
    "n_batches = int(n / batch_size) + 1\n",
    "n_batches = min(max_batches, n_batches)\n",
    "for t in range(n_batches):\n",
    "    print('batch number ' + str(t))\n",
    "\n",
    "    ran_from = t * batch_size\n",
    "    ran_to = (t + 1) * batch_size\n",
    "    ran_to = np.clip(ran_to, 0, n)\n",
    "\n",
    "    x_batch = x[ran_from:ran_to]\n",
    "    x_batch_transformed = preprocessor.transform(x_batch)\n",
    "\n",
    "    scores = ad.get_anomaly_scores(x_batch_transformed, type=score_type)\n",
    "    idx = (scores > score_threshold) * (x_batch[:,3]>0)\n",
    "\n",
    "    hist_builder_anomalous.add_data(x_batch[idx])\n",
    "    hist_builder_normal.add_data(x_batch[np.logical_not(idx)])"
   ]
  },
  {
   "cell_type": "code",
   "execution_count": 42,
   "metadata": {
    "pycharm": {
     "name": "#%%\n"
    }
   },
   "outputs": [
    {
     "name": "stdout",
     "output_type": "stream",
     "text": [
      "number of normal events: 38241162\n",
      "number of anomalous events: 6276\n",
      "anomalous fraction: 0.00016411635190374184\n"
     ]
    }
   ],
   "source": [
    "hist_data_normal = hist_builder_normal.get_histogram_data()\n",
    "hist_data_anomalous = hist_builder_anomalous.get_histogram_data()\n",
    "\n",
    "n_normal = hist_data_normal['HT']['n']\n",
    "n_anomalous = hist_data_anomalous['HT']['n']\n",
    "\n",
    "print('number of normal events: ' + str(n_normal))\n",
    "print('number of anomalous events: ' + str(n_anomalous))\n",
    "print('anomalous fraction: ' + str(n_anomalous / n_normal))"
   ]
  },
  {
   "cell_type": "code",
   "execution_count": 43,
   "metadata": {},
   "outputs": [
    {
     "name": "stdout",
     "output_type": "stream",
     "text": [
      "saving normal data to ../histograms/6021/6276_normal_hist.pkl\n",
      "saving anomalous data to ../histograms/6021/6276_anomalous_hist.pkl\n"
     ]
    }
   ],
   "source": [
    "hist_file_normal = os.path.join(target,str(n_anomalous)+'_normal_hist.pkl')\n",
    "hist_file_anomalous = os.path.join(target,str(n_anomalous)+'_anomalous_hist.pkl')\n",
    "\n",
    "print('saving normal data to ' + hist_file_normal)\n",
    "pickle.dump(hist_data_normal, open(hist_file_normal, 'wb'))\n",
    "\n",
    "print('saving anomalous data to ' + hist_file_anomalous)\n",
    "pickle.dump(hist_data_anomalous, open(hist_file_anomalous, 'wb'))"
   ]
  },
  {
   "cell_type": "code",
   "execution_count": null,
   "metadata": {},
   "outputs": [],
   "source": []
  }
 ],
 "metadata": {
  "kernelspec": {
   "display_name": "Python 3",
   "language": "python",
   "name": "python3"
  },
  "language_info": {
   "codemirror_mode": {
    "name": "ipython",
    "version": 3
   },
   "file_extension": ".py",
   "mimetype": "text/x-python",
   "name": "python",
   "nbconvert_exporter": "python",
   "pygments_lexer": "ipython3",
   "version": "3.6.8"
  },
  "pycharm": {
   "stem_cell": {
    "cell_type": "raw",
    "metadata": {
     "collapsed": false
    },
    "source": []
   }
  }
 },
 "nbformat": 4,
 "nbformat_minor": 1
}
