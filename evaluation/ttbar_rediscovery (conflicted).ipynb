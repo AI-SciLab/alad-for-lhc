{
 "cells": [
  {
   "cell_type": "code",
   "execution_count": 26,
   "metadata": {
    "collapsed": true,
    "pycharm": {
     "is_executing": false
    }
   },
   "outputs": [],
   "source": [
    "import numpy as np\n",
    "import h5py\n",
    "import pickle\n",
    "import matplotlib.pyplot as plt\n",
    "\n",
    "from alad_mod.alad import ALAD\n",
    "from evaluation.histogram_builder import *"
   ]
  },
  {
   "cell_type": "code",
   "execution_count": null,
   "outputs": [],
   "source": [
    "#plot raw\n",
    "#plot presel\n",
    "#plot ad\n",
    "#plot postsel\n",
    "\n",
    "# for every proc compute\n",
    "    # n\n",
    "    # n_pres, n_a, n_p\n",
    "    \n",
    "# stack plot, w, dy, tt\n",
    "\n",
    "#compute weights\n",
    "#w = (xsec*K*lum) / N_file\n",
    "\n",
    "# create plots with content = n * w\n",
    "# for data uncertainty is sqrt(n)"
   ],
   "metadata": {
    "collapsed": false,
    "pycharm": {
     "name": "#%%\n"
    }
   }
  },
  {
   "cell_type": "code",
   "execution_count": null,
   "outputs": [],
   "source": [
    "thres = 110\n",
    "\n",
    "def pre_select():\n",
    "    pass\n",
    "\n",
    "def anomaly_select():\n",
    "    pass\n",
    "\n",
    "def post_select():\n",
    "    pass\n",
    "\n",
    "def build_hists(x, n_max, batch_size=2 ** 20, hist_settings=settings_6021):\n",
    "    builder_raw = HistogramBuilder(hist_settings)\n",
    "    builder_pre = HistogramBuilder(hist_settings)\n",
    "    builder_ano= HistogramBuilder(hist_settings)\n",
    "    builder_pos = HistogramBuilder(hist_settings)\n",
    "\n",
    "    n = x.shape[0]\n",
    "    #n = min(n, n_max)\n",
    "\n",
    "    sample_fraction = min(n_max/n, 1)\n",
    "    sample_size = int(batch_size*sample_fraction)\n",
    "\n",
    "    n_batches = int(n / batch_size) + 1\n",
    "    for t in range(n_batches):\n",
    "        print('batch number ' + str(t))\n",
    "        ran_from = int(t * batch_size)\n",
    "        ran_to = (t + 1) * batch_size\n",
    "        ran_to = int(np.clip(ran_to, 0, n))\n",
    "        x_batch = x[ran_from:ran_to]\n",
    "        \n",
    "        if sample_fraction < 0.5:\n",
    "            idx = np.arange(0,batch_size)\n",
    "            idx = np.random.choice(idx, sample_size, replace=False)\n",
    "            x_raw = x_batch[idx]\n",
    "        else:\n",
    "            x_raw = x_batch\n",
    "        \n",
    "        # raw\n",
    "        builder_raw.add_data(x_raw)\n",
    "        \n",
    "        # pre selection\n",
    "        x_pre = pre_select(x_raw)\n",
    "        builder_pre.add_data(x_pre)\n",
    "        \n",
    "        # anomaly selection\n",
    "        x_ano = anomaly_select(x_pre)\n",
    "        builder_ano.add_data(x_ano)\n",
    "        \n",
    "        # post selection\n",
    "        x_pos = post_select(x_ano)\n",
    "        builder_pos.add_data(x_pos)\n",
    "        \n",
    "    return builder_raw.get_histogram_data(), builder_pre.get_histogram_data(),\\\n",
    "           builder_ano.get_histogram_data(), builder_pos.get_histogram_data()"
   ],
   "metadata": {
    "collapsed": false,
    "pycharm": {
     "name": "#%%\n"
    }
   }
  },
  {
   "cell_type": "code",
   "execution_count": null,
   "outputs": [],
   "source": [
    "#compute hist for raw, pres, ad, pos\n",
    "\n",
    "n_max = int(10e6)\n",
    "\n",
    "sets = {}\n",
    "sets['dy1jets'] = {'file': '/home/oliverkn/pro/7719/data.hdf5', 'xsec':561, 'K':1.23}\n",
    "sets['dy2jets'] = {'file': '/home/oliverkn/pro/7721/data.hdf5', 'xsec':181, 'K':1.23}\n",
    "sets['dy3jets'] = {'file': '/home/oliverkn/pro/7722/data.hdf5', 'xsec':51, 'K':1.23}\n",
    "sets['dy4jets'] = {'file': '/home/oliverkn/pro/7723/data.hdf5', 'xsec':15, 'K':1.23}\n",
    "\n",
    "sets['w1jets'] = {'file': '/home/oliverkn/pro/9863/data.hdf5', 'xsec':4480, 'K':1.23}\n",
    "sets['w2jets'] = {'file': '/home/oliverkn/pro/9864/data.hdf5', 'xsec':1435, 'K':1.23}\n",
    "sets['w3jets'] = {'file': '/home/oliverkn/pro/9865/data.hdf5', 'xsec':304, 'K':1.23}\n",
    "\n",
    "sets['ttbar'] = {'file': '/home/oliverkn/pro/9588/data.hdf5', 'xsec':164, 'K':1.66}\n",
    "\n",
    "#sets['data'] = {'file': '/home/oliverkn/pro/9588/data.hdf5', 'xsec':164, 'K':1.66}\n",
    "\n",
    "\n",
    "for key, set in sets.items():\n",
    "    # load data\n",
    "    file = set['file']\n",
    "    x = h5py.File(file, 'r')['data']\n",
    "    \n",
    "    # build hists\n",
    "    print('building ' + key)\n",
    "    hist_raw, hist_pre, hist_ano, hist_pos = build_hists(x, n_max=n_max, thres=thres)\n",
    "    set['hist_raw'] = hist_raw\n",
    "    set['hist_pre'] = hist_pre\n",
    "    set['hist_ano'] = hist_ano\n",
    "    set['hist_pos'] = hist_pos\n",
    "    \n",
    "    n_events = hist_raw['HT']['n']\n",
    "    n_events_a = hist_ano['HT']['n']\n",
    "    print('%d / %d = %3d_ppm' % (n_events_a, n_events, (n_events_a / n_events*1e6)))\n"
   ],
   "metadata": {
    "collapsed": false,
    "pycharm": {
     "name": "#%%\n"
    }
   }
  },
  {
   "cell_type": "code",
   "execution_count": null,
   "outputs": [],
   "source": [],
   "metadata": {
    "collapsed": false,
    "pycharm": {
     "name": "#%%\n"
    }
   }
  },
  {
   "cell_type": "code",
   "execution_count": 25,
   "outputs": [
    {
     "data": {
      "text/plain": "<Figure size 432x432 with 1 Axes>",
      "image/png": "[encoded data removed]"
     },
     "metadata": {
      "needs_background": "light"
     },
     "output_type": "display_data"
    }
   ],
   "source": [
    "fig, ax = plt.subplots(1,1, figsize=(6,6))\n",
    "\n",
    "w = np.array([10,15,12,8,4])*100\n",
    "tt = np.array([0, 1, 5, 1, 1])*100\n",
    "data = w + tt\n",
    "\n",
    "bin_edges = np.arange(0, 6)\n",
    "\n",
    "bin_centers = (bin_edges[:-1] + bin_edges[1:])/2\n",
    "\n",
    "ax.hist([bin_edges[:-1]]*2, bin_edges, weights=[w, tt], label=['W', 'tt'],stacked=True, histtype='stepfilled')\n",
    "ax.errorbar(bin_centers, data, yerr=np.sqrt(data), fmt='bo', label='data')\n",
    "\n",
    "ax.legend()\n",
    "\n",
    "plt.show()"
   ],
   "metadata": {
    "collapsed": false,
    "pycharm": {
     "name": "#%%\n",
     "is_executing": false
    }
   }
  },
  {
   "cell_type": "code",
   "execution_count": 37,
   "outputs": [
    {
     "name": "stdout",
     "text": [
      "(10, 23)\n"
     ],
     "output_type": "stream"
    }
   ],
   "source": [
    "x = h5py.File('/home/oliverkn/pro/7719/data.hdf5', 'r')['data']\n",
    "\n",
    "x_batch = x[:1000000]\n",
    "\n",
    "a = np.arange(0,1000000)\n",
    "s = np.random.choice(a, 10000, replace=False)\n",
    "print(x_batch[s].shape)\n"
   ],
   "metadata": {
    "collapsed": false,
    "pycharm": {
     "name": "#%%\n",
     "is_executing": false
    }
   }
  },
  {
   "cell_type": "code",
   "execution_count": null,
   "outputs": [],
   "source": [
    "\n"
   ],
   "metadata": {
    "collapsed": false,
    "pycharm": {
     "name": "#%%\n"
    }
   }
  }
 ],
 "metadata": {
  "kernelspec": {
   "display_name": "Python 3",
   "language": "python",
   "name": "python3"
  },
  "language_info": {
   "codemirror_mode": {
    "name": "ipython",
    "version": 2
   },
   "file_extension": ".py",
   "mimetype": "text/x-python",
   "name": "python",
   "nbconvert_exporter": "python",
   "pygments_lexer": "ipython2",
   "version": "2.7.6"
  },
  "pycharm": {
   "stem_cell": {
    "cell_type": "raw",
    "source": [],
    "metadata": {
     "collapsed": false
    }
   }
  }
 },
 "nbformat": 4,
 "nbformat_minor": 0
}