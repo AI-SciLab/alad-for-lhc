{
 "cells": [
  {
   "cell_type": "code",
   "execution_count": 6,
   "metadata": {},
   "outputs": [],
   "source": [
    "import numpy as np\n",
    "from matplotlib import pyplot as plt\n"
   ]
  },
  {
   "cell_type": "code",
   "execution_count": 4,
   "metadata": {
    "pycharm": {
     "name": "#%%\n"
    }
   },
   "outputs": [
    {
     "name": "stdout",
     "output_type": "stream",
     "text": [
      "(8000082, 23)\n",
      "[ 3.70180855e+01 -5.76480521e+01 -9.03473967e+00  8.82954715e+01\n",
      "  1.00000000e+00  0.00000000e+00  4.76837158e-07  3.70180855e+01\n",
      "  2.48440579e-01  1.37422411e-02  4.43967210e-02  3.47798369e-02\n",
      "  1.00000000e+00  0.00000000e+00  1.00000000e+00  4.76837158e-07\n",
      "  3.70180855e+01  0.00000000e+00  0.00000000e+00  0.00000000e+00\n",
      "  3.00000000e+02  1.30000000e+02  6.80000000e+01]\n"
     ]
    }
   ],
   "source": [
    "data = np.load('../data/Wlnu_sample.npy')\n",
    "print(data.shape)\n",
    "print(data[0])\n"
   ]
  },
  {
   "cell_type": "code",
   "execution_count": 5,
   "metadata": {},
   "outputs": [
    {
     "name": "stdout",
     "output_type": "stream",
     "text": [
      "(1166195, 23)\n",
      "[8.66957893e+01 4.66001090e+01 4.25570408e+01 5.47785579e+01\n",
      " 2.00000000e+00 2.00000000e+00 6.97788245e+01 4.28907776e+01\n",
      " 1.03251314e+00 1.89628186e-01 0.00000000e+00 1.93530555e-01\n",
      " 1.00000000e+00 1.00000000e+00 0.00000000e+00 0.00000000e+00\n",
      " 0.00000000e+00 1.00000000e+00 0.00000000e+00 4.28907776e+01\n",
      " 2.01000000e+02 9.30000000e+01 3.70000000e+01]\n"
     ]
    }
   ],
   "source": [
    "data = np.load('../data/qcd_sample.npy')\n",
    "print(data.shape)\n",
    "print(data[0])"
   ]
  },
  {
   "cell_type": "code",
   "execution_count": null,
   "metadata": {},
   "outputs": [],
   "source": []
  }
 ],
 "metadata": {
  "kernelspec": {
   "display_name": "Python 3",
   "language": "python",
   "name": "python3"
  },
  "language_info": {
   "codemirror_mode": {
    "name": "ipython",
    "version": 3
   },
   "file_extension": ".py",
   "mimetype": "text/x-python",
   "name": "python",
   "nbconvert_exporter": "python",
   "pygments_lexer": "ipython3",
   "version": "3.7.0"
  },
  "pycharm": {
   "stem_cell": {
    "cell_type": "raw",
    "source": [],
    "metadata": {
     "collapsed": false
    }
   }
  }
 },
 "nbformat": 4,
 "nbformat_minor": 1
}