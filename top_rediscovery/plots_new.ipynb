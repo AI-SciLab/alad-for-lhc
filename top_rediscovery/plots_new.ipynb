{
 "cells": [
  {
   "cell_type": "code",
   "execution_count": 1,
   "metadata": {
    "collapsed": true,
    "pycharm": {
     "is_executing": false
    }
   },
   "outputs": [],
   "source": [
    "import os\n",
    "import importlib.util\n",
    "\n",
    "import matplotlib\n",
    "# matplotlib.rcParams['text.usetex'] = True\n",
    "import matplotlib.pyplot as plt\n",
    "\n",
    "import numpy as np\n",
    "import h5py\n",
    "import tensorflow as tf\n",
    "import pickle\n",
    "\n",
    "from alad_mod.alad import ALAD\n",
    "from evaluation.histogram_builder import *\n",
    "from data.hlf_preprocessing import load"
   ]
  },
  {
   "cell_type": "code",
   "execution_count": 14,
   "outputs": [
    {
     "name": "stdout",
     "text": [
      "loading alad\n"
     ],
     "output_type": "stream"
    },
    {
     "name": "stderr",
     "text": [
      "WARNING: Logging before flag parsing goes to stderr.\nW1118 10:53:41.983904 140412581816128 lazy_loader.py:50] \nThe TensorFlow contrib module will not be included in TensorFlow 2.0.\nFor more information, please see:\n  * https://github.com/tensorflow/community/blob/master/rfcs/20180907-contrib-sunset.md\n  * https://github.com/tensorflow/addons\n  * https://github.com/tensorflow/io (for I/O related ops)\nIf you depend on functionality not listed there, please file an issue.\n\n",
      "W1118 10:53:42.046803 140412581816128 deprecation_wrapper.py:119] From /home/oliverkn/cloud/eth/2019_FS/pro/pycharm/alad_mod/alad.py:29: The name tf.placeholder is deprecated. Please use tf.compat.v1.placeholder instead.\n\n",
      "W1118 10:53:42.050780 140412581816128 deprecation_wrapper.py:119] From /home/oliverkn/cloud/eth/2019_FS/pro/pycharm/alad_mod/alad.py:44: The name tf.variable_scope is deprecated. Please use tf.compat.v1.variable_scope instead.\n\n",
      "W1118 10:53:42.051932 140412581816128 deprecation.py:323] From /home/oliverkn/pro/alad_6021/2_l16/config.py:81: dense (from tensorflow.python.layers.core) is deprecated and will be removed in a future version.\nInstructions for updating:\nUse keras.layers.dense instead.\n",
      "W1118 10:53:42.445719 140412581816128 deprecation.py:323] From /home/oliverkn/pro/alad_6021/2_l16/config.py:168: batch_normalization (from tensorflow.python.layers.normalization) is deprecated and will be removed in a future version.\nInstructions for updating:\nUse keras.layers.BatchNormalization instead.  In particular, `tf.control_dependencies(tf.GraphKeys.UPDATE_OPS)` should not be used (consult the `tf.keras.layers.batch_normalization` documentation).\n",
      "W1118 10:53:42.569255 140412581816128 deprecation.py:323] From /home/oliverkn/pro/alad_6021/2_l16/config.py:176: dropout (from tensorflow.python.layers.core) is deprecated and will be removed in a future version.\nInstructions for updating:\nUse keras.layers.dropout instead.\n",
      "W1118 10:53:43.022834 140412581816128 deprecation.py:323] From /home/oliverkn/pro/pycharm/venv/lib/python3.6/site-packages/tensorflow/python/ops/nn_impl.py:180: add_dispatch_support.<locals>.wrapper (from tensorflow.python.ops.array_ops) is deprecated and will be removed in a future version.\nInstructions for updating:\nUse tf.where in 2.0, which has the same broadcast rule as np.where\n",
      "W1118 10:53:43.102084 140412581816128 deprecation_wrapper.py:119] From /home/oliverkn/cloud/eth/2019_FS/pro/pycharm/alad_mod/alad.py:126: The name tf.trainable_variables is deprecated. Please use tf.compat.v1.trainable_variables instead.\n\n",
      "W1118 10:53:43.102963 140412581816128 deprecation_wrapper.py:119] From /home/oliverkn/cloud/eth/2019_FS/pro/pycharm/alad_mod/alad.py:133: The name tf.get_collection is deprecated. Please use tf.compat.v1.get_collection instead.\n\n",
      "W1118 10:53:43.103632 140412581816128 deprecation_wrapper.py:119] From /home/oliverkn/cloud/eth/2019_FS/pro/pycharm/alad_mod/alad.py:133: The name tf.GraphKeys is deprecated. Please use tf.compat.v1.GraphKeys instead.\n\n",
      "W1118 10:53:43.104213 140412581816128 deprecation_wrapper.py:119] From /home/oliverkn/cloud/eth/2019_FS/pro/pycharm/alad_mod/alad.py:143: The name tf.train.AdamOptimizer is deprecated. Please use tf.compat.v1.train.AdamOptimizer instead.\n\n",
      "W1118 10:53:45.309774 140412581816128 deprecation.py:323] From /home/oliverkn/pro/pycharm/venv/lib/python3.6/site-packages/tensorflow/python/training/moving_averages.py:433: Variable.initialized_value (from tensorflow.python.ops.variables) is deprecated and will be removed in a future version.\nInstructions for updating:\nUse Variable.read_value. Variables in 2.X are initialized automatically both in eager and graph (inside tf.defun) contexts.\n",
      "W1118 10:53:46.009446 140412581816128 deprecation.py:323] From /home/oliverkn/pro/pycharm/venv/lib/python3.6/site-packages/tensorflow/contrib/layers/python/layers/layers.py:1634: flatten (from tensorflow.python.layers.core) is deprecated and will be removed in a future version.\nInstructions for updating:\nUse keras.layers.flatten instead.\n",
      "W1118 10:53:46.209251 140412581816128 deprecation.py:506] From /home/oliverkn/cloud/eth/2019_FS/pro/pycharm/alad_mod/alad.py:214: calling norm (from tensorflow.python.ops.linalg_ops) with keep_dims is deprecated and will be removed in a future version.\nInstructions for updating:\nkeep_dims is deprecated, use keepdims instead\n",
      "W1118 10:53:46.242944 140412581816128 deprecation_wrapper.py:119] From /home/oliverkn/cloud/eth/2019_FS/pro/pycharm/alad_mod/alad.py:429: The name tf.train.Saver is deprecated. Please use tf.compat.v1.train.Saver instead.\n\n",
      "W1118 10:53:46.339572 140412581816128 deprecation.py:323] From /home/oliverkn/pro/pycharm/venv/lib/python3.6/site-packages/tensorflow/python/training/saver.py:1276: checkpoint_exists (from tensorflow.python.training.checkpoint_management) is deprecated and will be removed in a future version.\nInstructions for updating:\nUse standard file APIs to check for files with this prefix.\n"
     ],
     "output_type": "stream"
    }
   ],
   "source": [
    "result_path = '/home/oliverkn/pro/alad_6021/2_l16'\n",
    "model_file = 'model-10000000'\n",
    "\n",
    "print('loading alad')\n",
    "\n",
    "# loading config\n",
    "spec = importlib.util.spec_from_file_location('config', os.path.join(result_path, 'config.py'))\n",
    "config_alad = importlib.util.module_from_spec(spec)\n",
    "spec.loader.exec_module(config_alad)\n",
    "\n",
    "# loading preprocessor\n",
    "preprocessor = load(os.path.join(result_path, 'preprocessor.pkl'))\n",
    "\n",
    "# loading alad\n",
    "tf.reset_default_graph()\n",
    "ad = ALAD(config_alad, tf.Session())\n",
    "ad.load(os.path.join(result_path, model_file))"
   ],
   "metadata": {
    "collapsed": false,
    "pycharm": {
     "name": "#%% Load ALAD\n",
     "is_executing": false
    }
   }
  },
  {
   "cell_type": "code",
   "execution_count": 2,
   "outputs": [],
   "source": [
    "lum = 4429\n",
    "\n",
    "W_proc_list = ['w1jets', 'w2jets', 'w3jets']\n",
    "DY_proc_list = ['dy1jets', 'dy2jets', 'dy3jets', 'dy4jets']\n",
    "ttbar_proc_list = ['ttbar']\n",
    "data_proc_list = ['data']\n",
    "b_proc_list = W_proc_list + DY_proc_list\n",
    "bs_proc_list = b_proc_list + ttbar_proc_list\n",
    "proc_list = bs_proc_list + data_proc_list\n",
    "\n",
    "sets = {}\n",
    "sets['dy1jets'] = {'file': '/home/oliverkn/pro/opendata_v2/7719/data.hdf5', 'xsec':561, 'K':1.23}\n",
    "sets['dy2jets'] = {'file': '/home/oliverkn/pro/opendata_v2/7721/data.hdf5', 'xsec':181, 'K':1.23}\n",
    "sets['dy3jets'] = {'file': '/home/oliverkn/pro/opendata_v2/7722/data.hdf5', 'xsec':51, 'K':1.23}\n",
    "sets['dy4jets'] = {'file': '/home/oliverkn/pro/opendata_v2/7723/data.hdf5', 'xsec':15, 'K':1.23}\n",
    "\n",
    "sets['w1jets'] = {'file': '/home/oliverkn/pro/opendata_v2/9863/data.hdf5', 'xsec':4480, 'K':1.23}\n",
    "sets['w2jets'] = {'file': '/home/oliverkn/pro/opendata_v2/9864/data.hdf5', 'xsec':1435, 'K':1.23}\n",
    "sets['w3jets'] = {'file': '/home/oliverkn/pro/opendata_v2/9865/data.hdf5', 'xsec':304, 'K':1.23}\n",
    "\n",
    "sets['ttbar'] = {'file': '/home/oliverkn/pro/opendata_v2/9588/data.hdf5', 'xsec':164, 'K':1.66}\n",
    "sets['data'] = {'file': '/home/oliverkn/pro/opendata_v2/6021/data.hdf5', 'xsec':1, 'K':1}\n",
    "\n",
    "\n",
    "# lum = 4429\n",
    "# \n",
    "# W_proc_list = ['W+', 'W-']\n",
    "# DY_proc_list = ['DYtoll']\n",
    "# ttbar_proc_list = ['ttbar']\n",
    "# data_proc_list = ['data']\n",
    "# b_proc_list = W_proc_list + DY_proc_list\n",
    "# bs_proc_list = b_proc_list + ttbar_proc_list\n",
    "# proc_list = bs_proc_list + data_proc_list\n",
    "# \n",
    "# sets = {}\n",
    "# sets['DYtoll'] = {'file': '/home/oliverkn/pro/opendata_v2/7730/data.hdf5', 'xsec':1141, 'K':1}\n",
    "# sets['W-'] = {'file': '/home/oliverkn/pro/opendata_v2/9938/data.hdf5', 'xsec':5090, 'K':1}\n",
    "# sets['W+'] = {'file': '/home/oliverkn/pro/opendata_v2/9940/data.hdf5', 'xsec':7110, 'K':1}\n",
    "# sets['ttbar'] = {'file': '/home/oliverkn/pro/opendata_v2/9588/data.hdf5', 'xsec':164, 'K':1.66}\n",
    "# \n",
    "# sets['data'] = {'file': '/home/oliverkn/pro/opendata_v2/6021/data.hdf5', 'xsec':1, 'K':1}"
   ],
   "metadata": {
    "collapsed": false,
    "pycharm": {
     "name": "#%% sample description\n",
     "is_executing": false
    }
   }
  },
  {
   "cell_type": "code",
   "execution_count": 3,
   "outputs": [
    {
     "name": "stdout",
     "text": [
      "-----------------loading dy1jets-----------------\nn_tup        = 907244\nn_tup_target = 876304\n",
      "-----------------loading dy2jets-----------------\nn_tup        = 308661\nn_tup_target = 295463\n-----------------loading dy3jets-----------------\nn_tup        = 647464\nn_tup_target = 85620\n-----------------loading dy4jets-----------------\nn_tup        = 521818\nn_tup_target = 25944\n-----------------loading w1jets-----------------\nn_tup        = 6009999\nn_tup_target = 4924572\n",
      "-----------------loading w2jets-----------------\nn_tup        = 1667510\nn_tup_target = 1643696\n",
      "-----------------loading w3jets-----------------\nn_tup        = 361756\nn_tup_target = 353785\n-----------------loading ttbar-----------------\nn_tup        = 4148758\nn_tup_target = 208766\n",
      "-----------------loading data-----------------\n"
     ],
     "output_type": "stream"
    }
   ],
   "source": [
    "data_dict = {}\n",
    "\n",
    "def pre_select(x):\n",
    "    filter_iso = x[:,7] + x[:,8] + x[:,9] < 0.1\n",
    "    filter_eta = np.abs(x[:,5]) < 1.4\n",
    "    # filter_eta2 = np.logical_or(np.abs(x[:,5]) < 1.44, np.abs(x[:,5]) > 1.56)\n",
    "    filter_njets = x[:,2] > 1\n",
    "    # filter_idx = filter_njets * filter_eta * filter_iso #* filter_eta2\n",
    "    filter_idx = filter_iso * filter_eta * filter_njets\n",
    "    \n",
    "    return x[filter_idx]\n",
    "\n",
    "for key, set in sets.items():\n",
    "    print('-----------------loading %s-----------------' % key)\n",
    "\n",
    "    file = set['file']\n",
    "    hdf5_file = h5py.File(file, 'r')\n",
    "    \n",
    "    data = hdf5_file['data']\n",
    "    n_tot = hdf5_file['n_tot'][()]\n",
    "    n_tup = data.shape[0]\n",
    "    \n",
    "    if key == 'data':\n",
    "        x = data[()]\n",
    "    else:\n",
    "        n_tot_target = lum * set['xsec'] * set['K']\n",
    "        n_tup_target = int(n_tot_target/n_tot * n_tup)\n",
    "        \n",
    "        print('n_tup        = %d' % n_tup)\n",
    "        print('n_tup_target = %d' % n_tup_target)\n",
    "        if(n_tup < n_tup_target):\n",
    "            print('***********WARNING***********: not enough samples available')\n",
    "            \n",
    "        x = data[0:n_tup_target]\n",
    "    \n",
    "    # run preselection\n",
    "    x = pre_select(x)\n",
    "    \n",
    "    sets[key]['x_pre'] = x"
   ],
   "metadata": {
    "collapsed": false,
    "pycharm": {
     "name": "#%% Load data into memory\n",
     "is_executing": false
    }
   }
  },
  {
   "cell_type": "code",
   "execution_count": 4,
   "outputs": [
    {
     "name": "stdout",
     "text": [
      "dy1jets: (403770, 23)\ndy2jets: (148204, 23)\ndy3jets: (44224, 23)\ndy4jets: (13283, 23)\nw1jets: (1682588, 23)\nw2jets: (705603, 23)\nw3jets: (167926, 23)\nttbar: (128620, 23)\ndata: (7711955, 23)\n"
     ],
     "output_type": "stream"
    }
   ],
   "source": [
    "for key, set in sets.items():\n",
    "    print('%s: %s' % (key, set['x_pre'].shape))"
   ],
   "metadata": {
    "collapsed": false,
    "pycharm": {
     "name": "#%% print shapes\n",
     "is_executing": false
    }
   }
  },
  {
   "cell_type": "code",
   "execution_count": 5,
   "outputs": [],
   "source": [
    "# ano_score, ano_ppm, ano_ppm_pos, pos\n",
    "\n",
    "cont_bins = 25\n",
    "hist_settings = {}\n",
    "hist_settings['HT'] = {'symbol': '$H_T$ [GeV]', 'range': (0, 2000), 'yscale': 'log', 'bins': cont_bins, 'int': False}\n",
    "hist_settings['mass_jet'] = {'symbol': '$M_J$ [GeV]', 'range': (0, 3000), 'yscale': 'log', 'bins': cont_bins, 'int': False}\n",
    "hist_settings['n_jet'] = {'symbol': '$N_J$', 'range': (0, 15), 'yscale': 'linear', 'int': True, 'bin_size': 1}\n",
    "hist_settings['n_bjet'] = {'symbol': '$N_b$', 'range': (0, 8), 'yscale': 'linear', 'int': True, 'bin_size': 1}\n",
    "hist_settings['lep_pt'] = {'range': (20, 1000), 'yscale': 'log', 'bins': cont_bins, 'int': False}\n",
    "hist_settings['lep_eta'] = {'range': (-2.5, 2.5), 'yscale': 'linear', 'bins': cont_bins, 'int': False}\n",
    "hist_settings['lep_charge'] = {'range': (-1, 1), 'yscale': 'linear', 'int': True}\n",
    "hist_settings['lep_iso_ch'] = {'range': (0, 0.1), 'yscale': 'log', 'bins': cont_bins, 'int': False}\n",
    "hist_settings['lep_iso_neu'] = {'range': (0, 0.1), 'yscale': 'log', 'bins': cont_bins, 'int': False}\n",
    "hist_settings['lep_iso_gamma'] = {'range': (0, 0.1), 'yscale': 'log', 'bins': cont_bins, 'int': False}\n",
    "hist_settings['MET'] = {'range': (0, 1000), 'yscale': 'log', 'bins': cont_bins, 'int': False}\n",
    "hist_settings['METo'] = {'range': (-100, 100), 'yscale': 'linear', 'bins': cont_bins, 'int': False}\n",
    "hist_settings['METp'] = {'range': (-100, 100), 'yscale': 'linear', 'bins': cont_bins, 'int': False}\n",
    "hist_settings['MT'] = {'range': (0, 200), 'yscale': 'log', 'bins': cont_bins, 'int': False}\n",
    "hist_settings['n_mu'] = {'range': (0, 15), 'yscale': 'linear', 'int': True, 'bin_size': 1}\n",
    "hist_settings['pt_mu'] = {'range': (0, 1000), 'yscale': 'log', 'bins': cont_bins, 'int': False}\n",
    "hist_settings['mass_mu'] = {'range': (0, 1000), 'yscale': 'log', 'bins': cont_bins, 'int': False}\n",
    "hist_settings['n_ele'] = {'range': (0, 15), 'yscale': 'linear', 'int': True, 'bin_size': 1}\n",
    "hist_settings['pt_ele'] = {'range': (0, 1000), 'yscale': 'log', 'bins': cont_bins, 'int': False}\n",
    "hist_settings['mass_ele'] = {'range': (0, 1000), 'yscale': 'log', 'bins': cont_bins, 'int': False}\n",
    "hist_settings['n_neu'] = {'range': (0, 400), 'yscale': 'linear', 'int': True, 'bin_size': 1}\n",
    "hist_settings['n_ch'] = {'range': (0, 1000), 'yscale': 'linear', 'int': True, 'bin_size': 1}\n",
    "hist_settings['n_photon'] = {'range': (0, 1000), 'yscale': 'linear', 'int': True, 'bin_size': 1}\n",
    "\n",
    "def build_hists(x, selection_functions):\n",
    "    hist_builder_arr = [HistogramBuilder(hist_settings) for f in selection_functions]\n",
    "    \n",
    "    x_f = x\n",
    "    for i, f in enumerate(selection_functions):\n",
    "        x_f = f(x_f)\n",
    "        hist_builder_arr[i].add_data(x_f)\n",
    "    \n",
    "    # # perform upscaling\n",
    "    # upscale_factor = x.shape[0] / n\n",
    "    # print('processed/available: %d/%d = %f'%(n_events, x.shape[0], n/x.shape[0]))\n",
    "    # hists = [scale_hists(builder.get_histogram_data(), upscale_factor) for builder in hist_builder_arr]\n",
    "    \n",
    "    return [builder.get_histogram_data() for builder in hist_builder_arr]\n",
    "\n",
    "hist_cut_proc_dict = {}\n",
    "\n",
    "def build_all_hists(cut_functions, cut_names, proc_list=None):\n",
    "    if proc_list is None:\n",
    "        proc_list = sets.keys()\n",
    "    \n",
    "    for proc in proc_list:\n",
    "        set = sets[proc]\n",
    "        print('building hist for %s' % proc)\n",
    "    \n",
    "        # build hists\n",
    "        hists = build_hists(set['x_pre'], cut_functions)\n",
    "        \n",
    "        # add hists to dict\n",
    "        cut_name = 'pre'\n",
    "        for i in range(len(hists)):\n",
    "            cut_name += '-' + cut_names[i]\n",
    "            \n",
    "            if cut_name not in hist_cut_proc_dict:\n",
    "                hist_cut_proc_dict[cut_name] = {}\n",
    "                \n",
    "            hist_cut_proc_dict[cut_name][proc] = hists[i]\n",
    "            \n",
    "def build_anomaly_score_select(thres_target):\n",
    "    def anomaly_score_select(x, thres=thres_target, score_type='l1'):\n",
    "        x_transformed = preprocessor.transform(x)\n",
    "        scores = ad.get_anomaly_scores(x_transformed, type=score_type)  \n",
    "        anomaly_idx = scores > thres\n",
    "        return x[anomaly_idx]\n",
    "    return anomaly_score_select\n",
    "\n",
    "def build_anomaly_q_select(q_target):\n",
    "    def anomaly_q_select(x, q=q_target, score_type='l1'):\n",
    "        x_transformed = preprocessor.transform(x)\n",
    "        scores = ad.get_anomaly_scores(x_transformed, type=score_type)  \n",
    "        thres = np.quantile(scores, 1 - q)\n",
    "        anomaly_idx = scores > thres\n",
    "        return x[anomaly_idx]\n",
    "    return anomaly_q_select"
   ],
   "metadata": {
    "collapsed": false,
    "pycharm": {
     "name": "#%% define hist builder functions\n",
     "is_executing": false
    }
   }
  },
  {
   "cell_type": "code",
   "execution_count": 6,
   "outputs": [
    {
     "name": "stdout",
     "text": [
      "----------------------------building pre----------------------------\nbuilding hist for dy1jets\n",
      "building hist for dy2jets\n",
      "building hist for dy3jets\nbuilding hist for dy4jets\nbuilding hist for w1jets\n",
      "building hist for w2jets\n",
      "building hist for w3jets\n",
      "building hist for ttbar\n",
      "building hist for data\n",
      "done\n"
     ],
     "output_type": "stream"
    }
   ],
   "source": [
    "print('----------------------------building pre----------------------------')\n",
    "\n",
    "def id_select(x):\n",
    "    return x\n",
    "\n",
    "build_all_hists([id_select], [''])\n",
    "print('done')"
   ],
   "metadata": {
    "collapsed": false,
    "pycharm": {
     "name": "#%% build pre\n",
     "is_executing": false
    }
   }
  },
  {
   "cell_type": "code",
   "execution_count": 15,
   "outputs": [
    {
     "name": "stdout",
     "text": [
      "----------------------------building anoscore----------------------------\nbuilding hist for dy1jets\n",
      "building hist for dy2jets\n",
      "building hist for dy3jets\nbuilding hist for dy4jets\nbuilding hist for w1jets\n",
      "building hist for w2jets\n",
      "building hist for w3jets\n",
      "building hist for ttbar\n",
      "building hist for data\n",
      "done\n"
     ],
     "output_type": "stream"
    }
   ],
   "source": [
    "print('----------------------------building anoscore----------------------------')\n",
    "\n",
    "thres = 20\n",
    "build_all_hists([build_anomaly_score_select(thres)], ['anoscore'])\n",
    "print('done')"
   ],
   "metadata": {
    "collapsed": false,
    "pycharm": {
     "name": "#%% build anoscore\n",
     "is_executing": false
    }
   }
  },
  {
   "cell_type": "code",
   "execution_count": 9,
   "outputs": [
    {
     "name": "stdout",
     "text": [
      "w1jets: 1682588 (0.510770)\nw2jets: 705603 (0.214194)\nw3jets: 167926 (0.050976)\ndy1jets: 403770 (0.122569)\ndy2jets: 148204 (0.044989)\ndy3jets: 44224 (0.013425)\ndy4jets: 13283 (0.004032)\nttbar: 128620 (0.039044)\n--------------------------------------\nn_tup (mc):   3294218\nn_tup (data): 7711955\n"
     ],
     "output_type": "stream"
    }
   ],
   "source": [
    "sum_n_pre = 0\n",
    "sum_n_ano = 0\n",
    "for proc in bs_proc_list:\n",
    "    sum_n_pre += hist_cut_proc_dict['pre-'][proc]['HT'].n\n",
    "    sum_n_ano += hist_cut_proc_dict['pre-anoscore'][proc]['HT'].n\n",
    "    \n",
    "for proc in bs_proc_list:\n",
    "    n = hist_cut_proc_dict['pre-'][proc]['HT'].n\n",
    "    print('%s: %d (%f)'%(proc, n, n/sum_n_pre))\n",
    "\n",
    "print('--------------------------------------')\n",
    "print('n_tup (mc):   %d' % sum_n_pre)\n",
    "print('n_tup (data): %d' % hist_cut_proc_dict['pre-']['data']['HT'].n)"
   ],
   "metadata": {
    "collapsed": false,
    "pycharm": {
     "name": "#%% confirm normalization\n",
     "is_executing": false
    }
   }
  },
  {
   "cell_type": "code",
   "execution_count": 10,
   "outputs": [
    {
     "name": "stdout",
     "text": [
      "----------------------------building ano_q_b----------------------------\n",
      "target thres = 17\nbuilding hist for w1jets\n",
      "building hist for w2jets\n",
      "building hist for w3jets\n",
      "building hist for dy1jets\n",
      "building hist for dy2jets\n",
      "building hist for dy3jets\nbuilding hist for dy4jets\n",
      "building hist for data\n",
      "done\n"
     ],
     "output_type": "stream"
    }
   ],
   "source": [
    "print('----------------------------building ano_q_b----------------------------')\n",
    "\n",
    "target_q = 1000e-6\n",
    "\n",
    "# compute threshold for b-processes to achive target_q\n",
    "b_scores = np.empty(0)\n",
    "for proc in b_proc_list:\n",
    "    x = sets[proc]['x_pre']\n",
    "    x_transformed = preprocessor.transform(x)\n",
    "    scores = ad.get_anomaly_scores(x_transformed, type='l1')\n",
    "    b_scores = np.concatenate([b_scores, scores])\n",
    "thres = np.quantile(b_scores, 1 - target_q)\n",
    "print('target thres = %d' % thres)\n",
    "\n",
    "build_all_hists([build_anomaly_score_select(thres)], ['ano_q_b'], proc_list=b_proc_list)\n",
    "build_all_hists([build_anomaly_q_select(target_q)], ['ano_q_b'], proc_list=['data'])\n",
    "print('done')"
   ],
   "metadata": {
    "collapsed": false,
    "pycharm": {
     "name": "#%% build ano_ppm to match background\n",
     "is_executing": false
    }
   }
  },
  {
   "cell_type": "code",
   "execution_count": 11,
   "outputs": [
    {
     "name": "stdout",
     "text": [
      "----------------------------building ano_q_bs----------------------------\n",
      "target thres = 21\nbuilding hist for w1jets\n",
      "building hist for w2jets\n",
      "building hist for w3jets\n",
      "building hist for dy1jets\n",
      "building hist for dy2jets\n",
      "building hist for dy3jets\nbuilding hist for dy4jets\nbuilding hist for ttbar\n",
      "building hist for data\n",
      "done\n"
     ],
     "output_type": "stream"
    }
   ],
   "source": [
    "print('----------------------------building ano_q_bs----------------------------')\n",
    "\n",
    "target_q = 1000e-6\n",
    "\n",
    "# compute threshold for b-processes to achive target_q\n",
    "bs_scores = np.empty(0)\n",
    "for proc in bs_proc_list:\n",
    "    x = sets[proc]['x_pre']\n",
    "    x_transformed = preprocessor.transform(x)\n",
    "    scores = ad.get_anomaly_scores(x_transformed, type='l1')\n",
    "    bs_scores = np.concatenate([bs_scores, scores])\n",
    "thres = np.quantile(bs_scores, 1 - target_q)\n",
    "print('target thres = %d' % thres)\n",
    "\n",
    "build_all_hists([build_anomaly_score_select(thres)], ['ano_q_bs'], proc_list=bs_proc_list)\n",
    "build_all_hists([build_anomaly_q_select(target_q)], ['ano_q_bs'], proc_list=['data'])\n",
    "print('done')"
   ],
   "metadata": {
    "collapsed": false,
    "pycharm": {
     "name": "#%% build ano_ppm to match background + signal\n",
     "is_executing": false
    }
   }
  },
  {
   "cell_type": "code",
   "execution_count": 40,
   "outputs": [
    {
     "name": "stdout",
     "text": [
      "----------------------------building anoscore-pos----------------------------\nbuilding hist for dy1jets\n",
      "building hist for dy2jets\n",
      "building hist for dy3jets\n",
      "building hist for dy4jets\nbuilding hist for w1jets\n",
      "building hist for w2jets\n",
      "building hist for w3jets\n",
      "building hist for ttbar\n",
      "building hist for data\n",
      "done\n"
     ],
     "output_type": "stream"
    }
   ],
   "source": [
    "def post_select(x):\n",
    "    filter_bjets =  x[:,3] > 1\n",
    "    filter_njets = x[:,2] > 5\n",
    "    filter_idx = filter_bjets * filter_njets\n",
    "    \n",
    "    return x[filter_idx]\n",
    "    \n",
    "print('----------------------------building anoscore-pos----------------------------')\n",
    "\n",
    "thres = 20\n",
    "build_all_hists([build_anomaly_score_select(thres), post_select], ['anoscore', 'pos'])\n",
    "print('done')"
   ],
   "metadata": {
    "collapsed": false,
    "pycharm": {
     "name": "#%% build cut on njets>5, nbjets>0\n",
     "is_executing": false
    }
   }
  },
  {
   "cell_type": "code",
   "execution_count": 42,
   "outputs": [
    {
     "name": "stdout",
     "text": [
      "---------------------pre----------------------\nW      events: 2556117 (1000000ppm)\nDY     events: 609481 (1000000ppm)\nttbar  events: 128620 (1000000ppm)\nb      events: 3165598 (1000000ppm)\nbs     events: 3294218 (1000000ppm)\ndata   events: 7711955 (1000000ppm)\n---------------------pre-anoscore---------------------\nW      events: 1405 (   549ppm)\nDY     events: 714 (  1171ppm)\nttbar  events: 1800 ( 13994ppm)\nb      events: 2119 (   669ppm)\nbs     events: 3919 (  1189ppm)\ndata   events: 7368 (   955ppm)\n---------------------pre-anoscore-pos---------------------\nW      events: 22 (     8ppm)\nDY     events: 10 (    16ppm)\nttbar  events: 597 (  4641ppm)\nb      events: 32 (    10ppm)\nbs     events: 629 (   190ppm)\ndata   events: 462 (    59ppm)\n"
     ],
     "output_type": "stream"
    }
   ],
   "source": [
    "for cut, hist_proc_dict in hist_cut_proc_dict.items():  \n",
    "    # sum W\n",
    "    hist_W = sum_hists([hist_proc_dict[proc] for proc in W_proc_list])\n",
    "    hist_proc_dict['W'] = hist_W\n",
    "    \n",
    "    # sum DY\n",
    "    hist_DY = sum_hists([hist_proc_dict[proc] for proc in DY_proc_list])\n",
    "    hist_proc_dict['DY'] = hist_DY\n",
    "    \n",
    "    #sum background\n",
    "    hist_b = sum_hists([hist_proc_dict[proc] for proc in b_proc_list])\n",
    "    hist_proc_dict['b'] = hist_b\n",
    "    \n",
    "    if cut == 'pre-ano_q_b':\n",
    "        continue\n",
    "        \n",
    "    #sum background + signal\n",
    "    hist_bs = sum_hists([hist_proc_dict[proc] for proc in bs_proc_list])\n",
    "    hist_proc_dict['bs'] = hist_bs\n",
    "\n",
    "# print event numbers\n",
    "for cut, hist_proc_dict in hist_cut_proc_dict.items():  \n",
    "    print('---------------------%s---------------------' % cut)\n",
    "    for proc in ['W', 'DY', 'ttbar', 'b', 'bs', 'data']:\n",
    "        if proc not in hist_proc_dict:\n",
    "            continue\n",
    "        \n",
    "        hist_proc = hist_proc_dict[proc]\n",
    "        n = hist_proc['HT'].n\n",
    "        # print('%s total events:\\t %d' %(proc, n))\n",
    "        print('{:6} events: {} ({:6d}ppm)'.format(proc, n, int(n/hist_cut_proc_dict['pre-'][proc]['HT'].n*1e6)))"
   ],
   "metadata": {
    "collapsed": false,
    "pycharm": {
     "name": "#%% sum sub processes W, DY, background, background + signal\n",
     "is_executing": false
    }
   }
  },
  {
   "cell_type": "code",
   "execution_count": 61,
   "outputs": [],
   "source": [
    "# amp = trans_data / trans_mc = (n_data_a / n_data) / (n_mc_a / n_mc)\n",
    "\n",
    "def compute_amp(hist_pre, hist_ano):\n",
    "    hist_amp = {}\n",
    "\n",
    "    for key in hist_pre.keys():\n",
    "        hist_amp[key] = Histogram(hist_pre[key].bin_edges)\n",
    "        hist_amp[key].bin_content = hist_ano[key].bin_content / (hist_pre[key].bin_content+1e-20)\n",
    "    \n",
    "    return hist_amp\n",
    "\n",
    "# hist_amp_dict[proc]\n",
    "hist_amp_dict = {}\n",
    "hist_amp_dict['b'] = compute_amp(hist_cut_proc_dict['pre-']['b'], hist_cut_proc_dict['pre-anoscore']['b'])\n",
    "hist_amp_dict['bs'] = compute_amp(hist_cut_proc_dict['pre-']['bs'], hist_cut_proc_dict['pre-anoscore']['bs'])\n",
    "hist_amp_dict['data'] = compute_amp(hist_cut_proc_dict['pre-']['data'], hist_cut_proc_dict['pre-anoscore']['data'])\n",
    "\n",
    "# hist_amp_dict['b'] = compute_amp(hist_cut_proc_dict['pre-']['b'], hist_cut_proc_dict['pre-ano_q_b']['b'])\n",
    "# hist_amp_dict['bs'] = compute_amp(hist_cut_proc_dict['pre-']['bs'], hist_cut_proc_dict['pre-ano_q_bs']['bs'])\n",
    "# hist_amp_dict['data'] = compute_amp(hist_cut_proc_dict['pre-']['data'], hist_cut_proc_dict['pre-ano_q_bs']['data'])\n",
    "\n",
    "\n",
    "# hist_amp_dict['b'] = compute_amp(hist_cut_proc_dict['pre-']['b'], hist_cut_proc_dict['pre-']['b'])\n",
    "# hist_amp_dict['bs'] = compute_amp(hist_cut_proc_dict['pre-']['bs'], hist_cut_proc_dict['pre-']['bs'])\n",
    "# hist_amp_dict['data'] = compute_amp(hist_cut_proc_dict['pre-']['data'], hist_cut_proc_dict['pre-']['data'])"
   ],
   "metadata": {
    "collapsed": false,
    "pycharm": {
     "name": "#%% compute ADSE (anomaly detector selection efficiency)\n",
     "is_executing": false
    }
   }
  },
  {
   "cell_type": "code",
   "execution_count": 9,
   "outputs": [
    {
     "traceback": [
      "\u001b[0;31m---------------------------------------------------------------------------\u001b[0m",
      "\u001b[0;31mKeyError\u001b[0m                                  Traceback (most recent call last)",
      "\u001b[0;32m<ipython-input-9-86abf3833472>\u001b[0m in \u001b[0;36m<module>\u001b[0;34m\u001b[0m\n\u001b[1;32m     36\u001b[0m \u001b[0;34m\u001b[0m\u001b[0m\n\u001b[1;32m     37\u001b[0m         \u001b[0;32mfor\u001b[0m \u001b[0mproc\u001b[0m \u001b[0;32min\u001b[0m \u001b[0mbackground_plot_list\u001b[0m\u001b[0;34m:\u001b[0m\u001b[0;34m\u001b[0m\u001b[0;34m\u001b[0m\u001b[0m\n\u001b[0;32m---> 38\u001b[0;31m             \u001b[0mhist\u001b[0m \u001b[0;34m=\u001b[0m \u001b[0mhist_cut_proc_dict\u001b[0m\u001b[0;34m[\u001b[0m\u001b[0mcut\u001b[0m\u001b[0;34m]\u001b[0m\u001b[0;34m[\u001b[0m\u001b[0mproc\u001b[0m\u001b[0;34m]\u001b[0m\u001b[0;34m\u001b[0m\u001b[0;34m\u001b[0m\u001b[0m\n\u001b[0m\u001b[1;32m     39\u001b[0m             \u001b[0mbin_edges\u001b[0m \u001b[0;34m=\u001b[0m \u001b[0mhist\u001b[0m\u001b[0;34m[\u001b[0m\u001b[0mfeature\u001b[0m\u001b[0;34m]\u001b[0m\u001b[0;34m.\u001b[0m\u001b[0mbin_edges\u001b[0m\u001b[0;34m\u001b[0m\u001b[0;34m\u001b[0m\u001b[0m\n\u001b[1;32m     40\u001b[0m             \u001b[0mx_list\u001b[0m\u001b[0;34m.\u001b[0m\u001b[0mappend\u001b[0m\u001b[0;34m(\u001b[0m\u001b[0mhist\u001b[0m\u001b[0;34m[\u001b[0m\u001b[0mfeature\u001b[0m\u001b[0;34m]\u001b[0m\u001b[0;34m.\u001b[0m\u001b[0mbin_edges\u001b[0m\u001b[0;34m[\u001b[0m\u001b[0;34m:\u001b[0m\u001b[0;34m-\u001b[0m\u001b[0;36m1\u001b[0m\u001b[0;34m]\u001b[0m\u001b[0;34m)\u001b[0m\u001b[0;34m\u001b[0m\u001b[0;34m\u001b[0m\u001b[0m\n",
      "\u001b[0;31mKeyError\u001b[0m: 'W'"
     ],
     "ename": "KeyError",
     "evalue": "'W'",
     "output_type": "error"
    },
    {
     "data": {
      "text/plain": "<Figure size 1440x1440 with 16 Axes>",
      "image/png": "[encoded data removed]"
     },
     "metadata": {
      "needs_background": "light"
     },
     "output_type": "display_data"
    }
   ],
   "source": [
    "feature_list = ['HT', 'mass_jet', 'n_jet', 'n_bjet']\n",
    "background_plot_list = ['W', 'DY', 'ttbar']\n",
    "\n",
    "plot_size = 5\n",
    "\n",
    "color_dict = {}\n",
    "color_dict['W']='tab:blue'\n",
    "color_dict['DY']='tab:green'\n",
    "color_dict['ttbar']='tab:red'\n",
    "color_dict['data']='tab:purple'\n",
    "\n",
    "label_dict = {}\n",
    "label_dict['W'] = r'$W \\rightarrow \\mu\\nu$'\n",
    "label_dict['DY'] = r'$Z/\\gamma^* \\rightarrow ll$'\n",
    "label_dict['ttbar'] = r'$t\\bar{t}$'\n",
    "\n",
    "all_lin = False\n",
    "\n",
    "n_features = len(feature_list)\n",
    "fig, ax_arr = plt.subplots(n_features, 4, figsize=(4 * plot_size, n_features * plot_size))\n",
    "\n",
    "for row, feature in enumerate(feature_list):\n",
    "    f_setting = hist_settings[feature]\n",
    "    \n",
    "    # col 0, 1\n",
    "    for col, cut in enumerate(['pre-', 'pre-ano_q_bs']):\n",
    "        ax = ax_arr[row, col]\n",
    "    \n",
    "        # plot background stacked\n",
    "        x_list = []\n",
    "        bin_edges = None\n",
    "        weights_list = []\n",
    "        color_list = []\n",
    "        label_list = []\n",
    "        \n",
    "        for proc in background_plot_list:\n",
    "            hist = hist_cut_proc_dict[cut][proc]\n",
    "            bin_edges = hist[feature].bin_edges\n",
    "            x_list.append(hist[feature].bin_edges[:-1])\n",
    "            weights_list.append(hist[feature].bin_content)\n",
    "            color_list.append(color_dict[proc])\n",
    "            label_list.append(label_dict[proc])\n",
    "            \n",
    "        ax.hist(x_list, bin_edges, weights=weights_list, \n",
    "                stacked=True, histtype='stepfilled', color=color_list, label=label_list, density=True)\n",
    "        \n",
    "        hist_data_f = hist_cut_proc_dict['pre-ano_q_bs']['data'][feature]\n",
    "        bin_edges = hist_data_f.bin_edges\n",
    "        bin_content = hist_data_f.bin_content\n",
    "        ax.hist(bin_edges[:-1], bin_edges, weights=bin_content, histtype='step', color='b', label='data a', density=True)\n",
    "\n",
    "        \n",
    "        # axis settings\n",
    "        if all_lin is False:\n",
    "            ax.set_yscale(f_setting['yscale'])\n",
    "            \n",
    "        ax.set_xlabel(f_setting['symbol'])\n",
    "\n",
    "    # col 2\n",
    "    ax = ax_arr[row, 2]\n",
    "    \n",
    "    # plot data\n",
    "    hist_data_f = hist_cut_proc_dict['pre-']['data'][feature]\n",
    "    bin_edges = hist_data_f.bin_edges\n",
    "    bin_content = hist_data_f.bin_content\n",
    "    ax.hist(bin_edges[:-1], bin_edges, weights=bin_content, histtype='stepfilled', density=True,color=color_dict['data'], label='data')\n",
    "    \n",
    "    # plot data anomalous\n",
    "    hist_data_f = hist_cut_proc_dict['pre-anoscore']['data'][feature]\n",
    "    bin_edges = hist_data_f.bin_edges\n",
    "    bin_content = hist_data_f.bin_content\n",
    "    ax.hist(bin_edges[:-1], bin_edges, weights=bin_content, histtype='step', color='b', label='data a', density=True)\n",
    "\n",
    "    # axis settings\n",
    "    if all_lin is False:\n",
    "        ax.set_yscale(f_setting['yscale'])\n",
    "\n",
    "# fix ppm\n",
    "# uncertainty (opt)\n",
    "\n",
    "# plot ADSE\n",
    "for row, feature in enumerate(feature_list):\n",
    "    ax = ax_arr[row, 3]\n",
    "    f_setting = hist_settings[feature]\n",
    "    \n",
    "    bin_edges = hist_amp_dict['b'][feature].bin_edges\n",
    "    bin_content = hist_amp_dict['b'][feature].bin_content\n",
    "    ax.hist(bin_edges[:-1], bin_edges, weights = bin_content, histtype='stepfilled',# density=True,\n",
    "            label='b', color='blue')\n",
    "\n",
    "    bin_edges = hist_amp_dict['bs'][feature].bin_edges\n",
    "    bin_content = hist_amp_dict['bs'][feature].bin_content\n",
    "    ax.hist(bin_edges[:-1], bin_edges, weights = bin_content, histtype='step',# density=True,\n",
    "            label='bs', color='red')\n",
    "    \n",
    "    bin_edges = hist_amp_dict['data'][feature].bin_edges\n",
    "    bin_content = hist_amp_dict['data'][feature].bin_content\n",
    "    ax.hist(bin_edges[:-1], bin_edges, weights = bin_content, histtype='step',# density=True,\n",
    "            label='data', color='magenta')\n",
    "\n",
    "    # bin_edges = hist_amp_dict['data'][feature].bin_edges\n",
    "    # bin_centers = (bin_edges[:-1]+bin_edges[1:])/2\n",
    "    # bin_content = hist_amp_dict['data'][feature].bin_content\n",
    "    # ax.plot(bin_centers, bin_content, 'bo', label='data')\n",
    "    \n",
    "    ax.set_yscale('log')\n",
    "\n",
    "handles, labels = ax_arr[0,0].get_legend_handles_labels()\n",
    "fig.legend(handles, labels, loc = 'upper center', ncol=4)\n",
    "# fig.legend(handles, labels, ncol=4, bbox_to_anchor=(0., 1.02, 1., .102), loc='lower left',\n",
    "#         mode=\"expand\", borderaxespad=0.)\n",
    "\n",
    "\n",
    "plt.savefig('figures/adse.pdf')\n",
    "plt.show()"
   ],
   "metadata": {
    "collapsed": false,
    "pycharm": {
     "name": "#%% # ms stack vs data (after pre), ...(after ano), (amp)\n",
     "is_executing": false
    }
   }
  },
  {
   "cell_type": "code",
   "execution_count": 17,
   "outputs": [
    {
     "data": {
      "text/plain": "<Figure size 1440x360 with 4 Axes>",
      "image/png": "[encoded data removed]"
     },
     "metadata": {
      "needs_background": "light"
     },
     "output_type": "display_data"
    }
   ],
   "source": [
    "fig, ax_arr = plt.subplots(1, 4, figsize=(4 * plot_size, plot_size))\n",
    "\n",
    "cut = 'pre-anoscore-pos'\n",
    "for col, feature in enumerate(feature_list):\n",
    "    ax = ax_arr[col]\n",
    "    \n",
    "    # plot background stacked\n",
    "    x_list = []\n",
    "    bin_edges = None\n",
    "    weights_list = []\n",
    "    color_list = []\n",
    "    label_list = []\n",
    "    \n",
    "    for proc in background_plot_list:\n",
    "        hist = hist_cut_proc_dict[cut][proc]\n",
    "        bin_edges = hist[feature].bin_edges\n",
    "        x_list.append(hist[feature].bin_edges[:-1])\n",
    "        weights_list.append(hist[feature].bin_content)\n",
    "        color_list.append(color_dict[proc])\n",
    "        label_list.append(label_dict[proc])\n",
    "        \n",
    "    ax.hist(x_list, bin_edges, weights=weights_list, \n",
    "            stacked=True, histtype='stepfilled', color=color_list, label=label_list, density=True)\n",
    "    \n",
    "    hist_data_f = hist_cut_proc_dict[cut]['data'][feature]\n",
    "    bin_edges = hist_data_f.bin_edges\n",
    "    bin_content = hist_data_f.bin_content\n",
    "    ax.hist(bin_edges[:-1], bin_edges, weights=bin_content, histtype='step', color='b', label='data a', density=True)\n",
    "\n",
    "    \n",
    "    # axis settings\n",
    "    if all_lin is False:\n",
    "        ax.set_yscale(f_setting['yscale'])\n",
    "        \n",
    "    ax.set_xlabel(f_setting['symbol'])\n",
    "\n",
    "plt.show()"
   ],
   "metadata": {
    "collapsed": false,
    "pycharm": {
     "name": "#%%\n",
     "is_executing": false
    }
   }
  },
  {
   "cell_type": "code",
   "execution_count": 37,
   "outputs": [
    {
     "data": {
      "text/plain": "<Figure size 1440x720 with 8 Axes>",
      "image/png": "[encoded data removed]"
     },
     "metadata": {
      "needs_background": "light"
     },
     "output_type": "display_data"
    }
   ],
   "source": [
    "fig, ax_arr = plt.subplots(2, n_features, figsize=(n_features * plot_size, 2 * plot_size))\n",
    "\n",
    "for col, feature in enumerate(feature_list):\n",
    "    f_setting = hist_settings[feature]\n",
    "    for row, cut in enumerate(['pre-', 'pre-anoscore']):\n",
    "        ax = ax_arr[row, col]\n",
    "        \n",
    "        # plot background stacked\n",
    "        x_list = []\n",
    "        bin_edges = None\n",
    "        weights_list = []\n",
    "        color_list = []\n",
    "        label_list = []\n",
    "        for proc in background_plot_list:\n",
    "            hist = hist_cut_proc_dict[cut][proc]\n",
    "            bin_edges = hist[feature].bin_edges\n",
    "            x_list.append(hist[feature].bin_edges[:-1])\n",
    "            weights_list.append(hist[feature].bin_content)\n",
    "            color_list.append(color_dict[proc])\n",
    "            label_list.append(label_dict[proc])\n",
    "            \n",
    "        ax.hist(x_list, bin_edges, weights=weights_list, \n",
    "                stacked=True, histtype='stepfilled', color=color_list, label=label_list, density=True)\n",
    "        \n",
    "        # axis settings\n",
    "        ax.set_xlabel(f_setting['symbol'])\n",
    "        if all_lin is False:\n",
    "            ax.set_yscale(f_setting['yscale'])\n",
    "\n",
    "handles, labels = ax_arr[0,0].get_legend_handles_labels()\n",
    "fig.legend(handles, labels, loc = 'upper center', ncol=4)\n",
    "\n",
    "plt.savefig('figures/mc.pdf')\n",
    "plt.show()\n",
    "    "
   ],
   "metadata": {
    "collapsed": false,
    "pycharm": {
     "name": "#%% mc plots\n",
     "is_executing": false
    }
   }
  },
  {
   "cell_type": "code",
   "execution_count": null,
   "outputs": [],
   "source": [],
   "metadata": {
    "collapsed": false,
    "pycharm": {
     "name": "#%%\n"
    }
   }
  },
  {
   "cell_type": "code",
   "execution_count": 92,
   "outputs": [
    {
     "data": {
      "text/plain": "<Figure size 1440x720 with 8 Axes>",
      "image/png": "[encoded data removed]"
     },
     "metadata": {
      "needs_background": "light"
     },
     "output_type": "display_data"
    }
   ],
   "source": [
    "fig, ax_arr = plt.subplots(2, n_features, figsize=(n_features * plot_size, 2 * plot_size))\n",
    "\n",
    "for col, feature in enumerate(feature_list):\n",
    "    f_setting = hist_settings[feature]\n",
    "    for row, cut in enumerate(['pre-', 'pre-anoscore']):\n",
    "        ax = ax_arr[row, col]\n",
    "        \n",
    "        # plot data\n",
    "        hist_data_f = hist_cut_proc_dict[cut]['data'][feature]\n",
    "        bin_edges = hist_data_f.bin_edges\n",
    "        bin_content = hist_data_f.bin_content\n",
    "        ax.hist(bin_edges[:-1], bin_edges, weights=bin_content, histtype='stepfilled', color='black', label='data', density=True)\n",
    "        \n",
    "        # axis settings\n",
    "        ax.set_xlabel(f_setting['symbol'])\n",
    "        if all_lin is False:\n",
    "            ax.set_yscale(f_setting['yscale'])\n",
    "\n",
    "handles, labels = ax_arr[0,0].get_legend_handles_labels()\n",
    "fig.legend(handles, labels, loc = 'upper center', ncol=1)\n",
    "\n",
    "plt.savefig('figures/data.pdf')\n",
    "plt.show()\n"
   ],
   "metadata": {
    "collapsed": false,
    "pycharm": {
     "name": "#%% mc plots\n",
     "is_executing": false
    }
   }
  },
  {
   "cell_type": "code",
   "execution_count": 94,
   "outputs": [
    {
     "data": {
      "text/plain": "<Figure size 1440x360 with 4 Axes>",
      "image/png": "[encoded data removed]"
     },
     "metadata": {
      "needs_background": "light"
     },
     "output_type": "display_data"
    }
   ],
   "source": [
    "from uncertainties import unumpy, ufloat\n",
    "\n",
    "fig, ax_arr = plt.subplots(1, n_features, figsize=(n_features * plot_size, 1 * plot_size))\n",
    "\n",
    "\n",
    "# plot ADSE\n",
    "for col, feature in enumerate(feature_list):\n",
    "    ax = ax_arr[col]\n",
    "    f_setting = hist_settings[feature]\n",
    "    \n",
    "    bin_content_pre = hist_cut_proc_dict['pre-']['b'][feature].bin_content + 1e-20\n",
    "    bin_content_ano = hist_cut_proc_dict['pre-anoscore']['b'][feature].bin_content\n",
    "    bin_content_pre = unumpy.uarray(bin_content_pre, np.sqrt(bin_content_pre))\n",
    "    bin_content_ano = unumpy.uarray(bin_content_ano, np.sqrt(bin_content_ano))\n",
    "    \n",
    "    adse = bin_content_ano / bin_content_pre\n",
    "    \n",
    "    adse[unumpy.std_devs(adse)/(unumpy.nominal_values(adse)+1e-20)>0.5] = ufloat(0, 0)\n",
    "    \n",
    "    bin_edges = hist_cut_proc_dict['pre-']['data'][feature].bin_edges\n",
    "    bin_centers = (bin_edges[:-1]+bin_edges[1:])/2\n",
    "    \n",
    "    ax.hist(bin_edges[:-1], bin_edges, weights = unumpy.nominal_values(adse), histtype='stepfilled',# density=True,\n",
    "            label='background', color='cyan')\n",
    "\n",
    "    ax.errorbar(bin_centers, unumpy.nominal_values(adse), yerr=unumpy.std_devs(adse), \n",
    "                fmt='', linestyle='', color='blue', elinewidth=2)\n",
    "    \n",
    "    # ax.fill_between(bin_edges[:-1], unumpy.nominal_values(adse)+unumpy.std_devs(adse), \n",
    "    #                 unumpy.nominal_values(adse)-unumpy.std_devs(adse), \n",
    "    #             alpha=1, color='grey', step='post')\n",
    "\n",
    "    # bin_edges = hist_amp_dict['bs'][feature].bin_edges\n",
    "    # bin_content = hist_amp_dict['bs'][feature].bin_content\n",
    "    # ax.hist(bin_edges[:-1], bin_edges, weights = bin_content, histtype='step',# density=True,\n",
    "    #         label='bs', color='red')\n",
    "    \n",
    "    # bin_edges = hist_amp_dict['data'][feature].bin_edges\n",
    "    # bin_content = hist_amp_dict['data'][feature].bin_content\n",
    "    # ax.hist(bin_edges[:-1], bin_edges, weights = bin_content, histtype='step',# density=True,\n",
    "    #         label='data', color='magenta')\n",
    "\n",
    "    \n",
    "    bin_content_pre = hist_cut_proc_dict['pre-']['data'][feature].bin_content + 1e-20\n",
    "    bin_content_ano = hist_cut_proc_dict['pre-anoscore']['data'][feature].bin_content\n",
    "    bin_content_pre = unumpy.uarray(bin_content_pre, np.sqrt(bin_content_pre))\n",
    "    bin_content_ano = unumpy.uarray(bin_content_ano, np.sqrt(bin_content_ano))\n",
    "    \n",
    "    adse = bin_content_ano / bin_content_pre\n",
    "    \n",
    "    bin_edges = hist_cut_proc_dict['pre-']['data'][feature].bin_edges\n",
    "    bin_centers = (bin_edges[:-1]+bin_edges[1:])/2\n",
    "    \n",
    "    ax.errorbar(bin_centers, unumpy.nominal_values(adse), yerr=unumpy.std_devs(adse), \n",
    "                fmt='o', color='black', label='data')\n",
    "    \n",
    "    # axis settings\n",
    "    ax.set_yscale('log')\n",
    "    ax.set_xlabel(f_setting['symbol'])\n",
    "\n",
    "handles, labels = ax_arr[0].get_legend_handles_labels()\n",
    "fig.legend(handles, labels, loc = 'upper center', ncol=3)\n",
    "# fig.legend(handles, labels, ncol=4, bbox_to_anchor=(0., 1.02, 1., .102), loc='lower left',\n",
    "#         mode=\"expand\", borderaxespad=0.)\n",
    "\n",
    "plt.savefig('figures/adse.pdf')\n",
    "plt.show()"
   ],
   "metadata": {
    "collapsed": false,
    "pycharm": {
     "name": "#%% ADSE\n",
     "is_executing": false
    }
   }
  },
  {
   "cell_type": "code",
   "execution_count": null,
   "outputs": [],
   "source": [],
   "metadata": {
    "collapsed": false,
    "pycharm": {
     "name": "#%% post selection\n"
    }
   }
  },
  {
   "cell_type": "code",
   "execution_count": 76,
   "outputs": [
    {
     "data": {
      "text/plain": "<Figure size 1440x360 with 4 Axes>",
      "image/png": "[encoded data removed]"
     },
     "metadata": {
      "needs_background": "light"
     },
     "output_type": "display_data"
    }
   ],
   "source": [
    "fig, ax_arr = plt.subplots(1, 4, figsize=(4 * plot_size, plot_size))\n",
    "\n",
    "cut = 'pre-anoscore-pos'\n",
    "for col, feature in enumerate(feature_list):\n",
    "    ax = ax_arr[col]\n",
    "    f_setting = hist_settings[feature]\n",
    "    \n",
    "    # plot background stacked\n",
    "    x_list = []\n",
    "    bin_edges = None\n",
    "    weights_list = []\n",
    "    color_list = []\n",
    "    label_list = []\n",
    "    \n",
    "    for proc in background_plot_list:\n",
    "        hist = hist_cut_proc_dict[cut][proc]\n",
    "        bin_edges = hist[feature].bin_edges\n",
    "        x_list.append(hist[feature].bin_edges[:-1])\n",
    "        weights_list.append(hist[feature].bin_content)\n",
    "        color_list.append(color_dict[proc])\n",
    "        label_list.append(label_dict[proc])\n",
    "    \n",
    "    ax.hist(x_list, bin_edges, weights=weights_list, \n",
    "            stacked=True, histtype='stepfilled', color=color_list, label=label_list)#, density=True)\n",
    "    \n",
    "    hist_data_f = hist_cut_proc_dict[cut]['data'][feature]\n",
    "    bin_edges = hist_data_f.bin_edges\n",
    "    bin_centers = (bin_edges[:-1]+bin_edges[1:])/2\n",
    "    bin_content = hist_data_f.bin_content*629/462\n",
    "    \n",
    "    ax.errorbar(bin_centers, bin_content, yerr=np.sqrt(bin_content), \n",
    "                fmt='o', color='black', label='data')\n",
    "    \n",
    "    # axis settings\n",
    "    if all_lin is False:\n",
    "        ax.set_yscale(f_setting['yscale'])\n",
    "        \n",
    "    ax.set_xlabel(f_setting['symbol'])\n",
    "\n",
    "handles, labels = ax_arr[0].get_legend_handles_labels()\n",
    "fig.legend(handles, labels, loc = 'upper center', ncol=4)\n",
    "\n",
    "plt.savefig('figures/post.pdf')\n",
    "plt.show()\n",
    "\n"
   ],
   "metadata": {
    "collapsed": false,
    "pycharm": {
     "name": "#%%\n",
     "is_executing": false
    }
   }
  },
  {
   "cell_type": "code",
   "execution_count": null,
   "outputs": [],
   "source": [
    "\n"
   ],
   "metadata": {
    "collapsed": false,
    "pycharm": {
     "name": "#%%\n"
    }
   }
  }
 ],
 "metadata": {
  "kernelspec": {
   "display_name": "Python 3",
   "language": "python",
   "name": "python3"
  },
  "language_info": {
   "codemirror_mode": {
    "name": "ipython",
    "version": 2
   },
   "file_extension": ".py",
   "mimetype": "text/x-python",
   "name": "python",
   "nbconvert_exporter": "python",
   "pygments_lexer": "ipython2",
   "version": "2.7.6"
  },
  "pycharm": {
   "stem_cell": {
    "cell_type": "raw",
    "source": [],
    "metadata": {
     "collapsed": false
    }
   }
  }
 },
 "nbformat": 4,
 "nbformat_minor": 0
}