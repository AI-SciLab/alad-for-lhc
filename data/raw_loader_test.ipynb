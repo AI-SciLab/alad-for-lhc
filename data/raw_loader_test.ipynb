{
 "cells": [
  {
   "cell_type": "code",
   "execution_count": 1,
   "metadata": {
    "pycharm": {
     "is_executing": false
    }
   },
   "outputs": [
    {
     "ename": "ModuleNotFoundError",
     "evalue": "No module named 'data'",
     "output_type": "error",
     "traceback": [
      "\u001b[0;31m---------------------------------------------------------------------------\u001b[0m",
      "\u001b[0;31mModuleNotFoundError\u001b[0m                       Traceback (most recent call last)",
      "\u001b[0;32m<ipython-input-1-34969ed19918>\u001b[0m in \u001b[0;36m<module>\u001b[0;34m()\u001b[0m\n\u001b[0;32m----> 1\u001b[0;31m \u001b[0;32mfrom\u001b[0m \u001b[0mdata\u001b[0m\u001b[0;34m.\u001b[0m\u001b[0mbasic_loader\u001b[0m \u001b[0;32mimport\u001b[0m \u001b[0;34m*\u001b[0m\u001b[0;34m\u001b[0m\u001b[0;34m\u001b[0m\u001b[0m\n\u001b[0m",
      "\u001b[0;31mModuleNotFoundError\u001b[0m: No module named 'data'"
     ]
    }
   ],
   "source": [
    "from data.basic_loader import *\n"
   ]
  },
  {
   "cell_type": "code",
   "execution_count": 2,
   "metadata": {
    "pycharm": {
     "is_executing": false,
     "name": "#%%\n"
    }
   },
   "outputs": [
    {
     "name": "stdout",
     "output_type": "stream",
     "text": [
      "[0. 0. 0. ... 1. 1. 1.]\n"
     ]
    }
   ],
   "source": [
    "sm_files =  ['Wlnu']\n",
    "bsm_files =  ['Ato4l']\n",
    "\n",
    "sm_files = ['../../data/' + s +'_sample.npy' for s in sm_files]\n",
    "bsm_files = ['../../data/' + s +'_sample.npy' for s in bsm_files]\n",
    "\n",
    "data, labels = load_supervised_binary(sm_files, bsm_files)"
   ]
  },
  {
   "cell_type": "code",
   "execution_count": 15,
   "metadata": {},
   "outputs": [
    {
     "name": "stdout",
     "output_type": "stream",
     "text": [
      "[[ 0.16074622 -0.11197091 -0.132058   ...  0.81957639  0.36665259\n",
      "   0.1509746 ]\n",
      " [ 0.216419   -0.1026759   0.09666691 ...  0.7910756   0.34519663\n",
      "   0.13664033]\n",
      " [ 0.20294744 -0.22922485  0.11185351 ...  0.76182412  0.38091206\n",
      "   0.17803499]\n",
      " ...\n",
      " [ 0.25926211 -0.01242522 -0.00826102 ...  0.79132558  0.32583995\n",
      "   0.12695063]\n",
      " [ 0.10541039 -0.01699077  0.09428734 ...  0.87400845  0.3884482\n",
      "   0.13776361]\n",
      " [ 0.         -0.12569006 -0.07479849 ...  0.87865872  0.36410173\n",
      "   0.18054631]]\n",
      "[0. 0. 0. ... 0. 1. 0.]\n"
     ]
    }
   ],
   "source": [
    "print(data)\n",
    "print(labels)"
   ]
  },
  {
   "cell_type": "code",
   "execution_count": 14,
   "metadata": {
    "pycharm": {
     "is_executing": false,
     "name": "#%%\n"
    }
   },
   "outputs": [
    {
     "name": "stdout",
     "output_type": "stream",
     "text": [
      "(4000041, 23)\n"
     ]
    }
   ],
   "source": [
    "data, labels, data_test, labels_test = preprocess_supervised_binary(data,labels)"
   ]
  },
  {
   "cell_type": "code",
   "execution_count": 16,
   "metadata": {},
   "outputs": [
    {
     "name": "stdout",
     "output_type": "stream",
     "text": [
      "[[ 0.16074622 -0.11197091 -0.132058   ...  0.81957639  0.36665259\n",
      "   0.1509746 ]\n",
      " [ 0.216419   -0.1026759   0.09666691 ...  0.7910756   0.34519663\n",
      "   0.13664033]\n",
      " [ 0.20294744 -0.22922485  0.11185351 ...  0.76182412  0.38091206\n",
      "   0.17803499]\n",
      " ...\n",
      " [ 0.25926211 -0.01242522 -0.00826102 ...  0.79132558  0.32583995\n",
      "   0.12695063]\n",
      " [ 0.10541039 -0.01699077  0.09428734 ...  0.87400845  0.3884482\n",
      "   0.13776361]\n",
      " [ 0.         -0.12569006 -0.07479849 ...  0.87865872  0.36410173\n",
      "   0.18054631]]\n",
      "[0. 0. 0. ... 0. 1. 0.]\n"
     ]
    }
   ],
   "source": [
    "print(data)\n",
    "print(labels)"
   ]
  },
  {
   "cell_type": "code",
   "execution_count": 1,
   "metadata": {},
   "outputs": [
    {
     "ename": "NameError",
     "evalue": "name 'np' is not defined",
     "output_type": "error",
     "traceback": [
      "\u001b[0;31m---------------------------------------------------------------------------\u001b[0m",
      "\u001b[0;31mNameError\u001b[0m                                 Traceback (most recent call last)",
      "\u001b[0;32m<ipython-input-1-db77d64835f2>\u001b[0m in \u001b[0;36m<module>\u001b[0;34m()\u001b[0m\n\u001b[0;32m----> 1\u001b[0;31m \u001b[0mnp\u001b[0m\u001b[0;34m.\u001b[0m\u001b[0mload\u001b[0m\u001b[0;34m(\u001b[0m\u001b[0;34m'/home/oliverkn/pro/data/1_1/train_supervised.npy'\u001b[0m\u001b[0;34m)\u001b[0m\u001b[0;34m\u001b[0m\u001b[0;34m\u001b[0m\u001b[0m\n\u001b[0m",
      "\u001b[0;31mNameError\u001b[0m: name 'np' is not defined"
     ]
    }
   ],
   "source": []
  },
  {
   "cell_type": "code",
   "execution_count": null,
   "metadata": {},
   "outputs": [],
   "source": []
  }
 ],
 "metadata": {
  "kernelspec": {
   "display_name": "Python 3",
   "language": "python",
   "name": "python3"
  },
  "language_info": {
   "codemirror_mode": {
    "name": "ipython",
    "version": 3
   },
   "file_extension": ".py",
   "mimetype": "text/x-python",
   "name": "python",
   "nbconvert_exporter": "python",
   "pygments_lexer": "ipython3",
   "version": "3.6.8"
  },
  "pycharm": {
   "stem_cell": {
    "cell_type": "raw",
    "metadata": {
     "collapsed": false
    },
    "source": []
   }
  }
 },
 "nbformat": 4,
 "nbformat_minor": 1
}
