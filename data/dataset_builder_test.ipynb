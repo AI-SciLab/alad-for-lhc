{
 "cells": [
  {
   "cell_type": "code",
   "execution_count": 1,
   "metadata": {},
   "outputs": [],
   "source": [
    "import numpy as np"
   ]
  },
  {
   "cell_type": "code",
   "execution_count": 17,
   "metadata": {},
   "outputs": [
    {
     "name": "stdout",
     "output_type": "stream",
     "text": [
      "(4326076, 23)\n",
      "(4326076,)\n",
      "[[ 0.07391536 -0.07991202  0.01303561 ...  0.87786047  0.38589283\n",
      "   0.19386085]\n",
      " [ 0.11296493 -0.18473167 -0.00879478 ...  0.83535687  0.36232346\n",
      "   0.23483928]\n",
      " [ 0.          0.01379945 -0.03041472 ...  0.87574967  0.44444296\n",
      "   0.14230932]\n",
      " ...\n",
      " [ 0.12104585 -0.18225065  0.00800932 ...  0.81280477  0.38556124\n",
      "   0.18062328]\n",
      " [ 0.14429696 -0.0776957  -0.06315342 ...  0.88201304  0.35339916\n",
      "   0.15442652]\n",
      " [ 0.15286537 -0.0556782   0.01201041 ...  0.84149515  0.40140286\n",
      "   0.18861098]]\n",
      "[0. 0. 0. 0. 0. 0. 0. 0. 0. 0. 0. 0. 0. 0. 0. 0. 0. 0. 0. 0. 0. 0. 0. 0.\n",
      " 0. 0. 0. 0. 0. 0. 0. 0. 0. 0. 0. 0. 0. 0. 0. 0. 0. 0. 0. 0. 0. 0. 0. 0.\n",
      " 0. 0. 0. 0. 0. 0. 0. 1. 0. 1. 0. 0. 0. 1. 0. 0. 0. 0. 0. 0. 0. 1. 0. 0.\n",
      " 0. 0. 0. 0. 0. 0. 0. 0. 0. 0. 0. 0. 0. 0. 0. 0. 0. 0. 0. 0. 0. 1. 0. 0.\n",
      " 0. 0. 0. 0.]\n"
     ]
    }
   ],
   "source": [
    "data = np.load('/home/oliverkn/pro/data/1_1/train_supervised.npy', allow_pickle=True).item()\n",
    "print(data['x'].shape)\n",
    "print(data['y'].shape)\n",
    "\n",
    "print(data['x'])\n",
    "print(data['y'][200:300])"
   ]
  },
  {
   "cell_type": "code",
   "execution_count": 4,
   "metadata": {},
   "outputs": [
    {
     "name": "stdout",
     "output_type": "stream",
     "text": [
      "(4000041, 23)\n",
      "[[ 0.         -0.10027289  0.11835507 ...  0.8250857   0.44866411\n",
      "   0.18250744]\n",
      " [ 0.13176548  0.03565264 -0.10511838 ...  0.84565162  0.43106268\n",
      "   0.22788664]\n",
      " [ 0.         -0.07572832 -0.00765839 ...  0.89968191  0.34273597\n",
      "   0.20349948]\n",
      " ...\n",
      " [ 0.         -0.082641   -0.0842017  ...  0.89354636  0.37826796\n",
      "   0.16381683]\n",
      " [ 0.19711063 -0.18076681 -0.0963285  ...  0.71778549  0.36929543\n",
      "   0.18724839]\n",
      " [ 0.23293925 -0.02390325  0.04511046 ...  0.75391253  0.32886719\n",
      "   0.21097141]]\n"
     ]
    }
   ],
   "source": [
    "data = np.load('/home/oliverkn/pro/data/1_1/train_sm_only.npy', allow_pickle=True)\n",
    "print(data.shape)\n",
    "print(data)"
   ]
  },
  {
   "cell_type": "code",
   "execution_count": null,
   "metadata": {},
   "outputs": [],
   "source": []
  }
 ],
 "metadata": {
  "kernelspec": {
   "display_name": "Python 3",
   "language": "python",
   "name": "python3"
  },
  "language_info": {
   "codemirror_mode": {
    "name": "ipython",
    "version": 3
   },
   "file_extension": ".py",
   "mimetype": "text/x-python",
   "name": "python",
   "nbconvert_exporter": "python",
   "pygments_lexer": "ipython3",
   "version": "3.6.8"
  }
 },
 "nbformat": 4,
 "nbformat_minor": 2
}
