{
 "cells": [
  {
   "cell_type": "code",
   "execution_count": 52,
   "metadata": {
    "collapsed": true,
    "pycharm": {
     "is_executing": false
    }
   },
   "outputs": [],
   "source": [
    "import numpy as np\n",
    "from sklearn.metrics import confusion_matrix, roc_curve\n",
    "import matplotlib.pyplot as plt"
   ]
  },
  {
   "cell_type": "code",
   "execution_count": 102,
   "outputs": [
    {
     "data": {
      "text/plain": "<Figure size 432x288 with 1 Axes>",
      "image/png": "[encoded data removed]"
     },
     "metadata": {
      "needs_background": "light"
     },
     "output_type": "display_data"
    }
   ],
   "source": [
    "x = np.arange(0,1000)\n",
    "y = np.where(x<500, 0, 1)\n",
    "\n",
    "a = x + np.random.normal(0,500,1000)\n",
    "b = x + np.random.normal(0,500,1000)\n",
    "b=a\n",
    "# print(a)\n",
    "# print(b)\n",
    "\n",
    "# a_q = np.quantile(a, 0.5)\n",
    "# b_q = np.quantile(b, 0.5)\n",
    "# \n",
    "# idx = np.where(a<a_q, 0,1)\n",
    "# idx2 = np.where(b<b_q, 0,1)\n",
    "# print(idx)\n",
    "# print(idx2)\n",
    "\n",
    "def roc(a,b,y_true):\n",
    "    tpr = np.empty(0)\n",
    "    fpr = np.empty(0)\n",
    "    \n",
    "    for q in np.linspace(0.00,1,100):\n",
    "        a_q = np.quantile(a, q)\n",
    "        b_q = np.quantile(b, q)\n",
    "        \n",
    "        a_pred = np.where(a<a_q, 0,1)\n",
    "        b_pred = np.where(b<b_q, 0,1)\n",
    "        \n",
    "        pred = a_pred*b_pred\n",
    "        \n",
    "        tn, fp, fn, tp = confusion_matrix(y, pred).ravel()\n",
    "        \n",
    "        tpr=np.append(tpr,tp/500.)\n",
    "        fpr=np.append(fpr,fp/500.)\n",
    "        \n",
    "    return tpr,fpr\n",
    "\n",
    "tpr,fpr= roc(a,b,y)\n",
    "plt.loglog(fpr,tpr, label='com')\n",
    "\n",
    "fpr,tpr,_=roc_curve(y,a)\n",
    "plt.loglog(fpr,tpr,label='a')\n",
    "\n",
    "fpr,tpr,_=roc_curve(y,b)\n",
    "plt.loglog(fpr,tpr,label='b')\n",
    "plt.legend()\n",
    "plt.show()"
   ],
   "metadata": {
    "collapsed": false,
    "pycharm": {
     "name": "#%%\n",
     "is_executing": false
    }
   }
  },
  {
   "cell_type": "code",
   "execution_count": null,
   "outputs": [],
   "source": [
    "\n"
   ],
   "metadata": {
    "collapsed": false,
    "pycharm": {
     "name": "#%%\n"
    }
   }
  }
 ],
 "metadata": {
  "language_info": {
   "codemirror_mode": {
    "name": "ipython",
    "version": 2
   },
   "file_extension": ".py",
   "mimetype": "text/x-python",
   "name": "python",
   "nbconvert_exporter": "python",
   "pygments_lexer": "ipython2",
   "version": "2.7.6"
  },
  "kernelspec": {
   "name": "python3",
   "language": "python",
   "display_name": "Python 3"
  },
  "pycharm": {
   "stem_cell": {
    "cell_type": "raw",
    "source": [],
    "metadata": {
     "collapsed": false
    }
   }
  }
 },
 "nbformat": 4,
 "nbformat_minor": 0
}