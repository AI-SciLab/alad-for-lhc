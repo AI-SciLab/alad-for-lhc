{
 "cells": [
  {
   "cell_type": "code",
   "execution_count": 30,
   "metadata": {
    "pycharm": {
     "is_executing": false
    }
   },
   "outputs": [],
   "source": [
    "from data.raw_loader import *\n"
   ]
  },
  {
   "cell_type": "code",
   "execution_count": 35,
   "metadata": {
    "pycharm": {
     "is_executing": false,
     "name": "#%%\n"
    }
   },
   "outputs": [],
   "source": [
    "sm_data= np.arange(1,10).reshape((-1,1))\n",
    "bsm_data= 10*sm_data\n",
    "\n",
    "np.save( 'sm.npy',sm_data)\n",
    "np.save( 'bsm.npy',bsm_data)\n",
    "\n",
    "sm_files = ['sm.npy']\n",
    "bsm_files = ['bsm.npy']\n",
    "\n",
    "build(sm_files, bsm_files, '.', normalize=False)\n"
   ]
  },
  {
   "cell_type": "code",
   "execution_count": 36,
   "outputs": [
    {
     "name": "stdout",
     "text": [
      "[[1]\n [2]\n [3]\n [4]\n [5]\n [6]\n [7]\n [8]\n [9]]\n[[10]\n [20]\n [30]\n [40]\n [50]\n [60]\n [70]\n [80]\n [90]]\n"
     ],
     "output_type": "stream"
    }
   ],
   "source": [
    "print(np.load('sm.npy', allow_pickle=True))\n",
    "print(np.load('bsm.npy', allow_pickle=True))\n"
   ],
   "metadata": {
    "collapsed": false,
    "pycharm": {
     "name": "#%%\n",
     "is_executing": false
    }
   }
  },
  {
   "cell_type": "code",
   "execution_count": 37,
   "outputs": [
    {
     "name": "stdout",
     "text": [
      "(8, 1)\n(8,)\n[[80]\n [20]\n [ 9]\n [ 2]\n [ 8]\n [70]\n [50]\n [ 6]]\n[1. 1. 0. 0. 0. 1. 1. 0.]\n"
     ],
     "output_type": "stream"
    }
   ],
   "source": [
    "data = np.load('train_supervised.npy', allow_pickle=True).item()\n",
    "print(data['x'].shape)\n",
    "print(data['y'].shape)\n",
    "\n",
    "print(data['x'])\n",
    "print(data['y'])"
   ],
   "metadata": {
    "collapsed": false,
    "pycharm": {
     "name": "#%%\n",
     "is_executing": false
    }
   }
  },
  {
   "cell_type": "code",
   "execution_count": 38,
   "metadata": {
    "pycharm": {
     "is_executing": false
    }
   },
   "outputs": [
    {
     "name": "stdout",
     "text": [
      "(4, 1)\n[[2]\n [9]\n [6]\n [8]]\n"
     ],
     "output_type": "stream"
    }
   ],
   "source": [
    "data = np.load('train_sm_only.npy', allow_pickle=True)\n",
    "print(data.shape)\n",
    "print(data)"
   ]
  },
  {
   "cell_type": "code",
   "execution_count": null,
   "metadata": {},
   "outputs": [],
   "source": []
  }
 ],
 "metadata": {
  "kernelspec": {
   "display_name": "Python 3",
   "language": "python",
   "name": "python3"
  },
  "language_info": {
   "codemirror_mode": {
    "name": "ipython",
    "version": 3
   },
   "file_extension": ".py",
   "mimetype": "text/x-python",
   "name": "python",
   "nbconvert_exporter": "python",
   "pygments_lexer": "ipython3",
   "version": "3.6.8"
  },
  "pycharm": {
   "stem_cell": {
    "cell_type": "raw",
    "source": [],
    "metadata": {
     "collapsed": false
    }
   }
  }
 },
 "nbformat": 4,
 "nbformat_minor": 1
}