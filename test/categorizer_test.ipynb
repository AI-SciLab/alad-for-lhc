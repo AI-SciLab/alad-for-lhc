{
 "cells": [
  {
   "cell_type": "code",
   "execution_count": 1,
   "metadata": {
    "collapsed": true,
    "pycharm": {
     "is_executing": false
    }
   },
   "outputs": [],
   "source": [
    "import numpy as np\n",
    "from sklearn.preprocessing import OneHotEncoder, RobustScaler\n",
    "\n",
    "from data.hlf_preprocessing import HLFDataPreprocessor\n",
    "from data.hlf_dataset_utils import load_data2, load_data_train, build_mask"
   ]
  },
  {
   "cell_type": "code",
   "execution_count": 2,
   "outputs": [
    {
     "name": "stdout",
     "text": [
      "[[-1  0]\n [ 1  2]\n [ 1  1]]\n"
     ],
     "output_type": "stream"
    },
    {
     "traceback": [
      "\u001b[0;31m---------------------------------------------------------------------------\u001b[0m",
      "\u001b[0;31mNotFittedError\u001b[0m                            Traceback (most recent call last)",
      "\u001b[0;32m<ipython-input-2-e79f40eb69fc>\u001b[0m in \u001b[0;36m<module>\u001b[0;34m\u001b[0m\n\u001b[1;32m     16\u001b[0m \u001b[0;31m#enc.fit(data)\u001b[0m\u001b[0;34m\u001b[0m\u001b[0;34m\u001b[0m\u001b[0;34m\u001b[0m\u001b[0m\n\u001b[1;32m     17\u001b[0m \u001b[0;34m\u001b[0m\u001b[0m\n\u001b[0;32m---> 18\u001b[0;31m \u001b[0mdata_t\u001b[0m \u001b[0;34m=\u001b[0m \u001b[0menc\u001b[0m\u001b[0;34m.\u001b[0m\u001b[0mtransform\u001b[0m\u001b[0;34m(\u001b[0m\u001b[0mdata\u001b[0m\u001b[0;34m)\u001b[0m\u001b[0;34m.\u001b[0m\u001b[0mtoarray\u001b[0m\u001b[0;34m(\u001b[0m\u001b[0;34m)\u001b[0m\u001b[0;34m\u001b[0m\u001b[0;34m\u001b[0m\u001b[0m\n\u001b[0m\u001b[1;32m     19\u001b[0m \u001b[0mprint\u001b[0m\u001b[0;34m(\u001b[0m\u001b[0mdata_t\u001b[0m\u001b[0;34m.\u001b[0m\u001b[0mshape\u001b[0m\u001b[0;34m)\u001b[0m\u001b[0;34m\u001b[0m\u001b[0;34m\u001b[0m\u001b[0m\n\u001b[1;32m     20\u001b[0m \u001b[0mprint\u001b[0m\u001b[0;34m(\u001b[0m\u001b[0mdata_t\u001b[0m\u001b[0;34m)\u001b[0m\u001b[0;34m\u001b[0m\u001b[0;34m\u001b[0m\u001b[0m\n",
      "\u001b[0;32m~/pro/pycharm/venv/lib/python3.6/site-packages/sklearn/preprocessing/_encoders.py\u001b[0m in \u001b[0;36mtransform\u001b[0;34m(self, X)\u001b[0m\n\u001b[1;32m    724\u001b[0m             \u001b[0mTransformed\u001b[0m \u001b[0minput\u001b[0m\u001b[0;34m.\u001b[0m\u001b[0;34m\u001b[0m\u001b[0;34m\u001b[0m\u001b[0m\n\u001b[1;32m    725\u001b[0m         \"\"\"\n\u001b[0;32m--> 726\u001b[0;31m         \u001b[0mcheck_is_fitted\u001b[0m\u001b[0;34m(\u001b[0m\u001b[0mself\u001b[0m\u001b[0;34m,\u001b[0m \u001b[0;34m'categories_'\u001b[0m\u001b[0;34m)\u001b[0m\u001b[0;34m\u001b[0m\u001b[0;34m\u001b[0m\u001b[0m\n\u001b[0m\u001b[1;32m    727\u001b[0m         \u001b[0;32mif\u001b[0m \u001b[0mself\u001b[0m\u001b[0;34m.\u001b[0m\u001b[0m_legacy_mode\u001b[0m\u001b[0;34m:\u001b[0m\u001b[0;34m\u001b[0m\u001b[0;34m\u001b[0m\u001b[0m\n\u001b[1;32m    728\u001b[0m             return _transform_selected(X, self._legacy_transform, self.dtype,\n",
      "\u001b[0;32m~/pro/pycharm/venv/lib/python3.6/site-packages/sklearn/utils/validation.py\u001b[0m in \u001b[0;36mcheck_is_fitted\u001b[0;34m(estimator, attributes, msg, all_or_any)\u001b[0m\n\u001b[1;32m    912\u001b[0m \u001b[0;34m\u001b[0m\u001b[0m\n\u001b[1;32m    913\u001b[0m     \u001b[0;32mif\u001b[0m \u001b[0;32mnot\u001b[0m \u001b[0mall_or_any\u001b[0m\u001b[0;34m(\u001b[0m\u001b[0;34m[\u001b[0m\u001b[0mhasattr\u001b[0m\u001b[0;34m(\u001b[0m\u001b[0mestimator\u001b[0m\u001b[0;34m,\u001b[0m \u001b[0mattr\u001b[0m\u001b[0;34m)\u001b[0m \u001b[0;32mfor\u001b[0m \u001b[0mattr\u001b[0m \u001b[0;32min\u001b[0m \u001b[0mattributes\u001b[0m\u001b[0;34m]\u001b[0m\u001b[0;34m)\u001b[0m\u001b[0;34m:\u001b[0m\u001b[0;34m\u001b[0m\u001b[0;34m\u001b[0m\u001b[0m\n\u001b[0;32m--> 914\u001b[0;31m         \u001b[0;32mraise\u001b[0m \u001b[0mNotFittedError\u001b[0m\u001b[0;34m(\u001b[0m\u001b[0mmsg\u001b[0m \u001b[0;34m%\u001b[0m \u001b[0;34m{\u001b[0m\u001b[0;34m'name'\u001b[0m\u001b[0;34m:\u001b[0m \u001b[0mtype\u001b[0m\u001b[0;34m(\u001b[0m\u001b[0mestimator\u001b[0m\u001b[0;34m)\u001b[0m\u001b[0;34m.\u001b[0m\u001b[0m__name__\u001b[0m\u001b[0;34m}\u001b[0m\u001b[0;34m)\u001b[0m\u001b[0;34m\u001b[0m\u001b[0;34m\u001b[0m\u001b[0m\n\u001b[0m\u001b[1;32m    915\u001b[0m \u001b[0;34m\u001b[0m\u001b[0m\n\u001b[1;32m    916\u001b[0m \u001b[0;34m\u001b[0m\u001b[0m\n",
      "\u001b[0;31mNotFittedError\u001b[0m: This OneHotEncoder instance is not fitted yet. Call 'fit' with appropriate arguments before using this method."
     ],
     "ename": "NotFittedError",
     "evalue": "This OneHotEncoder instance is not fitted yet. Call 'fit' with appropriate arguments before using this method.",
     "output_type": "error"
    }
   ],
   "source": [
    "data = [[-1, 0],\n",
    "        [2, 2],\n",
    "        [1, 1]]\n",
    "data = np.array(data)\n",
    "\n",
    "data[:,0] = np.clip(data[:,0], a_min= -1, a_max = 1)\n",
    "\n",
    "print(data)\n",
    "\n",
    "mask = [True, True]\n",
    "categories = [None]*2\n",
    "categories[0] = [-1,1]\n",
    "categories[1] = [0,1,2]\n",
    "\n",
    "enc = OneHotEncoder(categories=categories)\n",
    "#enc.fit(data)\n",
    "\n",
    "data_t = enc.transform(data).toarray()\n",
    "print(data_t.shape)\n",
    "print(data_t)"
   ],
   "metadata": {
    "collapsed": false,
    "pycharm": {
     "name": "#%%\n",
     "is_executing": false
    }
   }
  },
  {
   "cell_type": "code",
   "execution_count": 3,
   "outputs": [
    {
     "name": "stdout",
     "text": [
      "[[-333.33333333]\n [  -0.66666667]\n [   0.        ]\n [   0.33333333]\n [   0.66666667]]\n"
     ],
     "output_type": "stream"
    }
   ],
   "source": [
    "data = [-1000, -2, 0, 1, 2]\n",
    "data = np.array(data).reshape((-1,1))\n",
    "\n",
    "scaler = RobustScaler()\n",
    "scaler.fit(data)\n",
    "data = scaler.transform(data)\n",
    "print(data)\n",
    "\n"
   ],
   "metadata": {
    "collapsed": false,
    "pycharm": {
     "name": "#%%\n",
     "is_executing": false
    }
   }
  },
  {
   "cell_type": "code",
   "execution_count": 2,
   "outputs": [
    {
     "data": {
      "text/plain": "['HT',\n 'METp',\n 'METo',\n 'MT',\n 'nJets',\n 'bJets',\n 'allJetMass',\n 'LepPt',\n 'LepIsoCh',\n 'LepIsoGamma',\n 'LepIsoNeu',\n 'allMuMass',\n 'allMuPt',\n 'allEleMass',\n 'allElePt',\n 'nChHad',\n 'nNeuHad',\n 'LepCharge_-1',\n 'LepCharge_1',\n 'LepIsEle_0',\n 'LepIsEle_1',\n 'nMu_0',\n 'nMu_1',\n 'nMu_2',\n 'nMu_3',\n 'nMu_4',\n 'nMu_5',\n 'nMu_6',\n 'nMu_7',\n 'nMu_8',\n 'nEle_0',\n 'nEle_1',\n 'nEle_2',\n 'nEle_3',\n 'nEle_4',\n 'nEle_5',\n 'nEle_6',\n 'nEle_7',\n 'nEle_8']"
     },
     "metadata": {},
     "output_type": "execute_result",
     "execution_count": 2
    }
   ],
   "source": [
    "data_path = '/home/oliverkn/pro/data/hlf_set/'\n",
    "x_train, _ = load_data2(data_path, set='train', type='sm')\n",
    "\n",
    "cont_list =     ['HT', 'METp', 'METo', 'MT', 'nJets',\n",
    "                 'bJets', 'allJetMass', 'LepPt',\n",
    "                 'LepIsoCh', 'LepIsoGamma', 'LepIsoNeu'\n",
    "                 , 'allMuMass', 'allMuPt',\n",
    "                 'allEleMass', 'allElePt', 'nChHad', 'nNeuHad']\n",
    "\n",
    "disc_list = ['LepCharge','LepIsEle','nMu','nEle']\n",
    "\n",
    "categories = [None]* len(disc_list)\n",
    "categories[0] = [-1, 1]\n",
    "categories[1] = [0, 1]\n",
    "categories[2] = [0, 1, 2, 3, 4, 5, 6, 7, 8]\n",
    "categories[3] = [0, 1, 2, 3, 4, 5, 6, 7, 8]\n",
    "\n",
    "cont_mask = build_mask(cont_list)\n",
    "disc_mask = build_mask(disc_list)\n",
    "\n",
    "preprocessor = HLFDataPreprocessor(cont_mask, disc_mask, categories)\n",
    "preprocessor.fit(x_train)\n",
    "\n",
    "x_train_t = preprocessor.transform(x_train)\n",
    "\n",
    "preprocessor.get_feature_names()"
   ],
   "metadata": {
    "collapsed": false,
    "pycharm": {
     "name": "#%%\n",
     "is_executing": false
    }
   }
  },
  {
   "cell_type": "code",
   "execution_count": 21,
   "outputs": [
    {
     "name": "stdout",
     "text": [
      "3604699\n4367993\n3802144\n",
      "4170548\n3828982\n3481825\n",
      "614881\n43735\n3133\n",
      "130\n5\n0\n"
     ],
     "output_type": "stream"
    }
   ],
   "source": [
    "print(np.count_nonzero(x_train_t[:,17]))\n",
    "print(np.count_nonzero(x_train_t[:,18]))\n",
    "\n",
    "print(np.count_nonzero(x_train_t[:,19]))\n",
    "print(np.count_nonzero(x_train_t[:,20]))\n",
    "\n",
    "print(np.count_nonzero(x_train_t[:,21]))\n",
    "print(np.count_nonzero(x_train_t[:,22]))\n",
    "print(np.count_nonzero(x_train_t[:,23]))\n",
    "print(np.count_nonzero(x_train_t[:,24]))\n",
    "print(np.count_nonzero(x_train_t[:,25]))\n",
    "print(np.count_nonzero(x_train_t[:,26]))\n",
    "print(np.count_nonzero(x_train_t[:,27]))\n",
    "print(np.count_nonzero(x_train_t[:,28]))"
   ],
   "metadata": {
    "collapsed": false,
    "pycharm": {
     "name": "#%%\n",
     "is_executing": false
    }
   }
  },
  {
   "cell_type": "code",
   "execution_count": null,
   "outputs": [],
   "source": [
    "\n"
   ],
   "metadata": {
    "collapsed": false,
    "pycharm": {
     "name": "#%%\n"
    }
   }
  }
 ],
 "metadata": {
  "kernelspec": {
   "display_name": "Python 3",
   "language": "python",
   "name": "python3"
  },
  "language_info": {
   "codemirror_mode": {
    "name": "ipython",
    "version": 2
   },
   "file_extension": ".py",
   "mimetype": "text/x-python",
   "name": "python",
   "nbconvert_exporter": "python",
   "pygments_lexer": "ipython2",
   "version": "2.7.6"
  },
  "pycharm": {
   "stem_cell": {
    "cell_type": "raw",
    "source": [],
    "metadata": {
     "collapsed": false
    }
   }
  }
 },
 "nbformat": 4,
 "nbformat_minor": 0
}